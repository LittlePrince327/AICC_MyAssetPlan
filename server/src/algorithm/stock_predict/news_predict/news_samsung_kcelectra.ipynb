{
 "cells": [
  {
   "cell_type": "code",
   "execution_count": 30,
   "id": "d1fa0fef",
   "metadata": {},
   "outputs": [],
   "source": [
    "import os\n",
    "import re\n",
    "import shutil\n",
    "import numpy as np\n",
    "import pandas as pd\n",
    "from tqdm import tqdm\n",
    "import seaborn as sns\n",
    "import matplotlib.pyplot as plt\n",
    "from sklearn.metrics import confusion_matrix\n",
    "import torch\n",
    "from torch.utils.data import Dataset\n",
    "from konlpy.tag import Komoran\n",
    "from pykospacing import Spacing\n",
    "from sklearn.preprocessing import LabelEncoder\n",
    "from sklearn.model_selection import train_test_split\n",
    "from sklearn.metrics import accuracy_score, precision_recall_fscore_support, confusion_matrix, classification_report\n",
    "from transformers import ElectraTokenizer, ElectraForSequenceClassification, Trainer, TrainingArguments, AdamW\n",
    "from imblearn.over_sampling import RandomOverSampler\n",
    "from imblearn.under_sampling import RandomUnderSampler\n",
    "from sklearn.utils import resample\n",
    "import optuna\n",
    "import itertools\n",
    "import h5py"
   ]
  },
  {
   "cell_type": "code",
   "execution_count": 2,
   "id": "348b9e6d",
   "metadata": {},
   "outputs": [],
   "source": [
    "# GPU 설정 : PyTorch를 사용할 때, GPU가 사용 가능한 경우 \"cuda\"를 사용하고, 그렇지 않으면 CPU(\"cpu\")를 사용하도록 설정\n",
    "device = torch.device(\"cuda\" if torch.cuda.is_available() else \"cpu\")\n",
    "\n",
    "komoran = Komoran()                 # Komoran 객체 생성: 한국어 형태소 분석기 Komoran을 초기화\n",
    "spacing = Spacing()                 # Spacing 객체 생성: 텍스트에서 띄어쓰기를 자동으로 교정해주는 Spacing 라이브러리를 초기화\n",
    "label_encoder = LabelEncoder()      # LabelEncoder 객체 생성: 범주형 데이터를 수치형 데이터로 변환하는 LabelEncoder를 초기화\n",
    "\n",
    "# tqdm과 pandas 통합: pandas의 프로그레스 바 기능을 tqdm과 통합하여 데이터프레임의 연산 시 진행 상황을 시각적으로 표시\n",
    "tqdm.pandas()\n",
    "\n",
    "# 엑셀 파일에서 데이터 읽어오기: 지정된 경로에서 'samsung_news_fil_cleaned.xlsx' 엑셀 파일을 읽어와서 데이터프레임에 저장\n",
    "df = pd.read_excel(r'../../../data/samsung_news_fil_cleaned.xlsx')\n",
    "\n",
    "# 데이터의 일부만 가져오기 (처음 10000개 행): 전체 데이터가 클 경우 처음 10000개 행만 사용하도록 하는 코드\n",
    "# df = df.iloc[:10000]"
   ]
  },
  {
   "cell_type": "code",
   "execution_count": 3,
   "id": "542f67d8",
   "metadata": {},
   "outputs": [
    {
     "name": "stdout",
     "output_type": "stream",
     "text": [
      "Class distribution:\n",
      "Outcome\n",
      "호재    9345\n",
      "악재    3861\n",
      "Name: count, dtype: int64\n"
     ]
    }
   ],
   "source": [
    "# 호재 악재 갯수 확인\n",
    "print(\"Class distribution:\")\n",
    "print(df['Outcome'].value_counts())"
   ]
  },
  {
   "cell_type": "code",
   "execution_count": 4,
   "id": "b3f7965b",
   "metadata": {},
   "outputs": [],
   "source": [
    "# Outcome 레이블 변경\n",
    "# 'Outcome' : '호재'는 0으로, '악재'는 1로 변경하여 이진 분류 문제로 변환\n",
    "df.loc[(df['Outcome'] == '호재'), 'Outcome'] = 0\n",
    "df.loc[(df['Outcome'] == '악재'), 'Outcome'] = 1\n",
    "\n",
    "# 클래스별로 데이터 분리\n",
    "# 'Outcome' 값에 따라 두 개의 데이터프레임으로 분리\n",
    "df_positive = df[df['Outcome'] == 0]  # 0: 호재\n",
    "df_negative = df[df['Outcome'] == 1]  # 1: 악재\n",
    "\n",
    "# 최소 클래스의 샘플 수 확인\n",
    "# 더 적은 샘플 수를 가진 클래스를 찾아 그 개수를 저장\n",
    "min_class_count = min(len(df_positive), len(df_negative))\n",
    "\n",
    "# 최소 샘플 수 보장 및 계산\n",
    "# 샘플 수를 보정, 최소 클래스의 1.25배 및 1.35배가 되도록 설정\n",
    "positive_n_samples = max(int(min_class_count * 1.25), 1)\n",
    "negative_n_samples = max(int(min_class_count * 1.35), 1)\n",
    "\n",
    "# 다운샘플링 적용\n",
    "df_positive_downsampled = resample(df_positive,\n",
    "                                   replace=True,                    # 샘플을 복원하지 않고\n",
    "                                   n_samples=positive_n_samples,    # 최소 클래스의 개수에 비례해서 설정\n",
    "                                   random_state=42)                 # 재현성을 위해 random_state 사용\n",
    "\n",
    "df_negative_downsampled = resample(df_negative,\n",
    "                                   replace=True,                    # 샘플을 복원하지 않고\n",
    "                                   n_samples=negative_n_samples,    # 최소 클래스의 개수에 비례해서 설정\n",
    "                                   random_state=42)                 # 재현성을 위해 random_state 사용\n",
    "\n",
    "# 다운샘플링된 데이터 결합\n",
    "df_resampled = pd.concat([df_positive_downsampled, df_negative_downsampled])\n",
    "\n",
    "# 데이터프레임을 무작위로 셔플, 인덱스 초기화, 데이터의 순서를 랜덤 배치 \n",
    "df_resampled = df_resampled.sample(frac=1, random_state=42).reset_index(drop=True)\n",
    "\n",
    "# 데이터를 학습용(train)과 평가용(eval)으로 8:2 비율로 분리\n",
    "train_df, eval_df = train_test_split(df_resampled, test_size=0.2, random_state=42)\n",
    "\n",
    "# 학습 데이터의 텍스트와 라벨을 리스트로 변환\n",
    "train_texts     = train_df['cleaned'].tolist()\n",
    "train_labels    = train_df['Outcome'].tolist()\n",
    "\n",
    "# 평가 데이터의 텍스트와 라벨을 리스트로 변환\n",
    "eval_texts      = eval_df['cleaned'].tolist()\n",
    "eval_labels     = eval_df['Outcome'].tolist()"
   ]
  },
  {
   "cell_type": "code",
   "execution_count": 5,
   "id": "a6745411",
   "metadata": {},
   "outputs": [],
   "source": [
    "# PyTorch Dataset 클래스 정의 / 학습 및 평가에 사용할 데이터셋 정의\n",
    "class NewsDataset(Dataset):\n",
    "    def __init__(self, texts, labels, tokenizer, max_len):\n",
    "        # 생성자에서 텍스트 데이터, 라벨, 토크나이저, 최대 길이를 초기화\n",
    "        self.texts      = texts                             # 텍스트 데이터 리스트\n",
    "        self.labels     = labels                            # 라벨 데이터 리스트\n",
    "        self.tokenizer  = tokenizer                         # 사용할 토크나이저\n",
    "        self.max_len    = max_len                           # 토큰화된 시퀀스의 최대 길이\n",
    "\n",
    "    def __len__(self):\n",
    "        # 데이터셋 샘플 수 반환\n",
    "        return len(self.texts)\n",
    "\n",
    "    def __getitem__(self, idx):\n",
    "        # 주어진 인덱스 해당하는 텍스트와 라벨을 반환\n",
    "        text    = self.texts[idx]                           # 인덱스에 해당하는 텍스트\n",
    "        label   = self.labels[idx]                          # 인덱스에 해당하는 라벨\n",
    "\n",
    "        # 텍스트를 토크나이저로 인코딩, 모델 입력으로 변환\n",
    "        encoding = self.tokenizer.encode_plus(\n",
    "            text,                                           # 인코딩할 텍스트\n",
    "            add_special_tokens      = True,                 # 문장의 시작과 끝에 특별 토큰 추가\n",
    "            max_length              = self.max_len,         # 최대 길이로 패딩 및 자르기 수행\n",
    "            return_token_type_ids   = False,                # token type ids 반환 안함\n",
    "            padding                 = 'max_length',         # max_length에 맞춰 패딩 추가\n",
    "            truncation              = True,                 # max_length를 초과하는 텍스트는 자름\n",
    "            return_attention_mask   = True,                 # attention mask 반환\n",
    "            return_tensors          = 'pt',                 # PyTorch 텐서로 반환\n",
    "        )\n",
    "\n",
    "        # 반환된 인코딩 결과를 딕셔너리 형태로 반환\n",
    "        return {\n",
    "            'input_ids': encoding['input_ids'].flatten(),               # 토큰 ID 텐서를 1차원으로 평탄화하여 반환\n",
    "            'attention_mask': encoding['attention_mask'].flatten(),     # attention mask 텐서를 1차원으로 평탄화하여 반환\n",
    "            'labels': torch.tensor(label, dtype=torch.long)             # 라벨을 long 타입의 텐서로 변환하여 반환\n",
    "        }"
   ]
  },
  {
   "cell_type": "code",
   "execution_count": 6,
   "id": "85ea7643",
   "metadata": {},
   "outputs": [
    {
     "name": "stderr",
     "output_type": "stream",
     "text": [
      "c:\\Users\\dlavk\\anaconda3\\envs\\test_pytorch\\Lib\\site-packages\\huggingface_hub\\file_download.py:1150: FutureWarning: `resume_download` is deprecated and will be removed in version 1.0.0. Downloads always resume when possible. If you want to force a new download, use `force_download=True`.\n",
      "  warnings.warn(\n",
      "The tokenizer class you load from this checkpoint is not the same type as the class this function is called from. It may result in unexpected tokenization. \n",
      "The tokenizer class you load from this checkpoint is 'BertTokenizer'. \n",
      "The class this function is called from is 'ElectraTokenizer'.\n"
     ]
    }
   ],
   "source": [
    "# KcELECTRA 토크나이저 로드\n",
    "tokenizer = ElectraTokenizer.from_pretrained(\"beomi/KcELECTRA-base-v2022\")\n",
    "\n",
    "# 모델 초기화 함수 정의 / KcELECTRA 기반의 시퀀스 분류 모델 초기화\n",
    "def initialize_model():\n",
    "    # num_labels=2로 이진 분류를 수행하도록 설정 / 사전 학습된 KcELECTRA 모델 불러오기, 시퀀스 분류를 위해 사용\n",
    "    model = ElectraForSequenceClassification.from_pretrained(\"beomi/KcELECTRA-base-v2022\", num_labels=2)\n",
    "    \n",
    "    # 모델 GPU로 이동\n",
    "    model.to(device)\n",
    "\n",
    "    # 옵티마이저로 AdamW 설정, 학습률은 5e-5 설정\n",
    "    optimizer = AdamW(model.parameters(), lr=5e-5)\n",
    "    \n",
    "    return model, optimizer\n",
    "\n",
    "# 평가지표를 계산하는 함수 정의\n",
    "def compute_metrics(eval_pred):\n",
    "    # 예측 결과와 실제 라벨 분리\n",
    "    logits, labels = eval_pred.predictions, eval_pred.label_ids\n",
    "\n",
    "    # 예측 로짓에서 가장 높은값으로 최종 만듬\n",
    "    predictions = torch.argmax(torch.tensor(logits), dim=1)\n",
    "    \n",
    "    # 예측값과 실제 라벨 비교 후 정확도 계산\n",
    "    acc = accuracy_score(labels, predictions.numpy())\n",
    "    \n",
    "    # precision, recall, f1 점수를 가중 평균 방식(average='weighted')으로 계산\n",
    "    precision, recall, f1, _ = precision_recall_fscore_support(labels, predictions.numpy(), average='weighted')\n",
    "    \n",
    "    # 계산된 지표들 딕셔너리 형태로 반환\n",
    "    return {\n",
    "        'accuracy'  : acc,\n",
    "        'f1'        : f1,\n",
    "        'precision' : precision,\n",
    "        'recall'    : recall\n",
    "    }\n",
    "\n",
    "# 전처리된 텍스트와 라벨로 학습 및 평가 데이터셋 인스턴스 생성\n",
    "train_dataset = NewsDataset(train_texts, train_labels, tokenizer, max_len=256)\n",
    "eval_dataset = NewsDataset(eval_texts, eval_labels, tokenizer, max_len=256)"
   ]
  },
  {
   "cell_type": "code",
   "execution_count": 28,
   "id": "c0f04edd",
   "metadata": {},
   "outputs": [],
   "source": [
    "# 로그를 저장할 리스트 초기화\n",
    "log_list = []\n",
    "\n",
    "# 하이퍼파라미터 그리드 설정\n",
    "parameter_grid = {\n",
    "    'learning_rate': [1e-5, 3e-5],  # 학습률: 적당히 넓은 범위에서 선택 \n",
    "    'batch_size': [16],             # 배치 크기\n",
    "    'num_train_epochs': [5],        # 학습 에폭 수\n",
    "    'weight_decay': [0.01, 0.005],  # 가중치 감소 , 과적합 방지를 위해 작은값 추가 \n",
    "    'warmup_steps': [500],          # 웜업 스텝수 \n",
    "}\n",
    "\n",
    "# 최적화된 하이퍼파라미터를 저장할 변수\n",
    "best_accuracy = 0\n",
    "best_params = None\n",
    "best_model = None"
   ]
  },
  {
   "cell_type": "code",
   "execution_count": 31,
   "id": "3c38f4ac",
   "metadata": {},
   "outputs": [],
   "source": [
    "# 하이퍼파라미터 그리드의 모든 조합 생성\n",
    "param_combinations = list(itertools.product(*parameter_grid.values()))"
   ]
  },
  {
   "cell_type": "code",
   "execution_count": 32,
   "id": "e566ae95",
   "metadata": {},
   "outputs": [
    {
     "data": {
      "text/plain": [
       "[(1e-05, 16, 5, 0.01, 500),\n",
       " (1e-05, 16, 5, 0.005, 500),\n",
       " (3e-05, 16, 5, 0.01, 500),\n",
       " (3e-05, 16, 5, 0.005, 500)]"
      ]
     },
     "execution_count": 32,
     "metadata": {},
     "output_type": "execute_result"
    }
   ],
   "source": [
    "# 하이퍼파라미터 그리드 조합 확인\n",
    "param_combinations"
   ]
  },
  {
   "cell_type": "code",
   "execution_count": 33,
   "id": "11cdf1f3",
   "metadata": {},
   "outputs": [
    {
     "name": "stdout",
     "output_type": "stream",
     "text": [
      "Testing combination: LR: 1e-05, Batch Size: 16, Epochs: 5, WD: 0.01, Warmup Steps: 500\n"
     ]
    },
    {
     "name": "stderr",
     "output_type": "stream",
     "text": [
      "c:\\Users\\dlavk\\anaconda3\\envs\\test_pytorch\\Lib\\site-packages\\huggingface_hub\\file_download.py:1150: FutureWarning: `resume_download` is deprecated and will be removed in version 1.0.0. Downloads always resume when possible. If you want to force a new download, use `force_download=True`.\n",
      "  warnings.warn(\n",
      "c:\\Users\\dlavk\\anaconda3\\envs\\test_pytorch\\Lib\\site-packages\\transformers\\modeling_utils.py:484: FutureWarning: You are using `torch.load` with `weights_only=False` (the current default value), which uses the default pickle module implicitly. It is possible to construct malicious pickle data which will execute arbitrary code during unpickling (See https://github.com/pytorch/pytorch/blob/main/SECURITY.md#untrusted-models for more details). In a future release, the default value for `weights_only` will be flipped to `True`. This limits the functions that could be executed during unpickling. Arbitrary objects will no longer be allowed to be loaded via this mode unless they are explicitly allowlisted by the user via `torch.serialization.add_safe_globals`. We recommend you start setting `weights_only=True` for any use case where you don't have full control of the loaded file. Please open an issue on GitHub for any issues related to this experimental feature.\n",
      "  return torch.load(checkpoint_file, map_location=map_location)\n",
      "Some weights of ElectraForSequenceClassification were not initialized from the model checkpoint at beomi/KcELECTRA-base-v2022 and are newly initialized: ['classifier.dense.weight', 'classifier.dense.bias', 'classifier.out_proj.weight', 'classifier.out_proj.bias']\n",
      "You should probably TRAIN this model on a down-stream task to be able to use it for predictions and inference.\n",
      "c:\\Users\\dlavk\\anaconda3\\envs\\test_pytorch\\Lib\\site-packages\\transformers\\optimization.py:411: FutureWarning: This implementation of AdamW is deprecated and will be removed in a future version. Use the PyTorch implementation torch.optim.AdamW instead, or set `no_deprecation_warning=True` to disable this warning\n",
      "  warnings.warn(\n",
      "c:\\Users\\dlavk\\anaconda3\\envs\\test_pytorch\\Lib\\site-packages\\accelerate\\accelerator.py:451: FutureWarning: Passing the following arguments to `Accelerator` is deprecated and will be removed in version 1.0 of Accelerate: dict_keys(['dispatch_batches']). Please pass an `accelerate.DataLoaderConfiguration` instead: \n",
      "dataloader_config = DataLoaderConfiguration(dispatch_batches=None)\n",
      "  warnings.warn(\n",
      "  4%|▍         | 50/1255 [01:12<29:18,  1.46s/it]"
     ]
    },
    {
     "name": "stdout",
     "output_type": "stream",
     "text": [
      "{'loss': 0.6931, 'learning_rate': 5e-06, 'epoch': 0.2}\n"
     ]
    },
    {
     "name": "stderr",
     "output_type": "stream",
     "text": [
      "  8%|▊         | 100/1255 [02:25<27:55,  1.45s/it]"
     ]
    },
    {
     "name": "stdout",
     "output_type": "stream",
     "text": [
      "{'loss': 0.6936, 'learning_rate': 1e-05, 'epoch': 0.4}\n"
     ]
    },
    {
     "name": "stderr",
     "output_type": "stream",
     "text": [
      " 12%|█▏        | 150/1255 [03:37<26:57,  1.46s/it]"
     ]
    },
    {
     "name": "stdout",
     "output_type": "stream",
     "text": [
      "{'loss': 0.6724, 'learning_rate': 1.5e-05, 'epoch': 0.6}\n"
     ]
    },
    {
     "name": "stderr",
     "output_type": "stream",
     "text": [
      " 16%|█▌        | 200/1255 [04:49<24:55,  1.42s/it]"
     ]
    },
    {
     "name": "stdout",
     "output_type": "stream",
     "text": [
      "{'loss': 0.6095, 'learning_rate': 2e-05, 'epoch': 0.8}\n"
     ]
    },
    {
     "name": "stderr",
     "output_type": "stream",
     "text": [
      " 20%|█▉        | 250/1255 [06:03<24:24,  1.46s/it]"
     ]
    },
    {
     "name": "stdout",
     "output_type": "stream",
     "text": [
      "{'loss': 0.5853, 'learning_rate': 2.5e-05, 'epoch': 1.0}\n"
     ]
    },
    {
     "name": "stderr",
     "output_type": "stream",
     "text": [
      " 20%|██        | 251/1255 [06:04<23:07,  1.38s/it]\n",
      " 20%|██        | 251/1255 [06:30<23:07,  1.38s/it]"
     ]
    },
    {
     "name": "stdout",
     "output_type": "stream",
     "text": [
      "{'eval_loss': 0.5545030832290649, 'eval_accuracy': 0.6862549800796812, 'eval_f1': 0.656681350076372, 'eval_precision': 0.7593611869439794, 'eval_recall': 0.6862549800796812, 'eval_runtime': 26.1739, 'eval_samples_per_second': 76.718, 'eval_steps_per_second': 4.814, 'epoch': 1.0}\n"
     ]
    },
    {
     "name": "stderr",
     "output_type": "stream",
     "text": [
      " 24%|██▍       | 300/1255 [07:44<23:08,  1.45s/it]  "
     ]
    },
    {
     "name": "stdout",
     "output_type": "stream",
     "text": [
      "{'loss': 0.5698, 'learning_rate': 3e-05, 'epoch': 1.2}\n"
     ]
    },
    {
     "name": "stderr",
     "output_type": "stream",
     "text": [
      " 28%|██▊       | 350/1255 [08:58<22:12,  1.47s/it]"
     ]
    },
    {
     "name": "stdout",
     "output_type": "stream",
     "text": [
      "{'loss': 0.604, 'learning_rate': 3.5e-05, 'epoch': 1.39}\n"
     ]
    },
    {
     "name": "stderr",
     "output_type": "stream",
     "text": [
      " 32%|███▏      | 400/1255 [10:12<21:00,  1.47s/it]"
     ]
    },
    {
     "name": "stdout",
     "output_type": "stream",
     "text": [
      "{'loss': 0.5543, 'learning_rate': 4e-05, 'epoch': 1.59}\n"
     ]
    },
    {
     "name": "stderr",
     "output_type": "stream",
     "text": [
      " 36%|███▌      | 450/1255 [11:27<19:40,  1.47s/it]"
     ]
    },
    {
     "name": "stdout",
     "output_type": "stream",
     "text": [
      "{'loss': 0.5975, 'learning_rate': 4.5e-05, 'epoch': 1.79}\n"
     ]
    },
    {
     "name": "stderr",
     "output_type": "stream",
     "text": [
      " 40%|███▉      | 500/1255 [12:42<18:42,  1.49s/it]"
     ]
    },
    {
     "name": "stdout",
     "output_type": "stream",
     "text": [
      "{'loss': 0.5197, 'learning_rate': 5e-05, 'epoch': 1.99}\n"
     ]
    },
    {
     "name": "stderr",
     "output_type": "stream",
     "text": [
      " 40%|████      | 502/1255 [12:44<17:35,  1.40s/it]\n",
      " 40%|████      | 502/1255 [13:11<17:35,  1.40s/it]"
     ]
    },
    {
     "name": "stdout",
     "output_type": "stream",
     "text": [
      "{'eval_loss': 0.5106509923934937, 'eval_accuracy': 0.6937250996015937, 'eval_f1': 0.6567039977828358, 'eval_precision': 0.8071944151106418, 'eval_recall': 0.6937250996015937, 'eval_runtime': 26.678, 'eval_samples_per_second': 75.268, 'eval_steps_per_second': 4.723, 'epoch': 2.0}\n"
     ]
    },
    {
     "name": "stderr",
     "output_type": "stream",
     "text": [
      " 44%|████▍     | 550/1255 [14:26<17:20,  1.48s/it]  "
     ]
    },
    {
     "name": "stdout",
     "output_type": "stream",
     "text": [
      "{'loss': 0.5394, 'learning_rate': 4.668874172185431e-05, 'epoch': 2.19}\n"
     ]
    },
    {
     "name": "stderr",
     "output_type": "stream",
     "text": [
      " 48%|████▊     | 600/1255 [15:39<15:50,  1.45s/it]"
     ]
    },
    {
     "name": "stdout",
     "output_type": "stream",
     "text": [
      "{'loss': 0.5381, 'learning_rate': 4.337748344370861e-05, 'epoch': 2.39}\n"
     ]
    },
    {
     "name": "stderr",
     "output_type": "stream",
     "text": [
      " 52%|█████▏    | 650/1255 [16:53<14:49,  1.47s/it]"
     ]
    },
    {
     "name": "stdout",
     "output_type": "stream",
     "text": [
      "{'loss': 0.5555, 'learning_rate': 4.006622516556292e-05, 'epoch': 2.59}\n"
     ]
    },
    {
     "name": "stderr",
     "output_type": "stream",
     "text": [
      " 56%|█████▌    | 700/1255 [18:05<13:22,  1.45s/it]"
     ]
    },
    {
     "name": "stdout",
     "output_type": "stream",
     "text": [
      "{'loss': 0.5198, 'learning_rate': 3.675496688741722e-05, 'epoch': 2.79}\n"
     ]
    },
    {
     "name": "stderr",
     "output_type": "stream",
     "text": [
      " 60%|█████▉    | 750/1255 [19:17<12:13,  1.45s/it]"
     ]
    },
    {
     "name": "stdout",
     "output_type": "stream",
     "text": [
      "{'loss': 0.5054, 'learning_rate': 3.3443708609271526e-05, 'epoch': 2.99}\n"
     ]
    },
    {
     "name": "stderr",
     "output_type": "stream",
     "text": [
      " 60%|██████    | 753/1255 [19:21<11:31,  1.38s/it]\n",
      " 60%|██████    | 753/1255 [19:46<11:31,  1.38s/it]"
     ]
    },
    {
     "name": "stdout",
     "output_type": "stream",
     "text": [
      "{'eval_loss': 0.5061969757080078, 'eval_accuracy': 0.6937250996015937, 'eval_f1': 0.6567039977828358, 'eval_precision': 0.8071944151106418, 'eval_recall': 0.6937250996015937, 'eval_runtime': 24.9548, 'eval_samples_per_second': 80.466, 'eval_steps_per_second': 5.049, 'epoch': 3.0}\n"
     ]
    },
    {
     "name": "stderr",
     "output_type": "stream",
     "text": [
      " 64%|██████▎   | 800/1255 [20:58<10:59,  1.45s/it]  "
     ]
    },
    {
     "name": "stdout",
     "output_type": "stream",
     "text": [
      "{'loss': 0.5072, 'learning_rate': 3.0132450331125826e-05, 'epoch': 3.19}\n"
     ]
    },
    {
     "name": "stderr",
     "output_type": "stream",
     "text": [
      " 68%|██████▊   | 850/1255 [22:11<09:48,  1.45s/it]"
     ]
    },
    {
     "name": "stdout",
     "output_type": "stream",
     "text": [
      "{'loss': 0.5203, 'learning_rate': 2.6821192052980134e-05, 'epoch': 3.39}\n"
     ]
    },
    {
     "name": "stderr",
     "output_type": "stream",
     "text": [
      " 72%|███████▏  | 900/1255 [23:24<08:31,  1.44s/it]"
     ]
    },
    {
     "name": "stdout",
     "output_type": "stream",
     "text": [
      "{'loss': 0.5064, 'learning_rate': 2.3509933774834437e-05, 'epoch': 3.59}\n"
     ]
    },
    {
     "name": "stderr",
     "output_type": "stream",
     "text": [
      " 76%|███████▌  | 950/1255 [24:36<07:28,  1.47s/it]"
     ]
    },
    {
     "name": "stdout",
     "output_type": "stream",
     "text": [
      "{'loss': 0.5278, 'learning_rate': 2.0198675496688745e-05, 'epoch': 3.78}\n"
     ]
    },
    {
     "name": "stderr",
     "output_type": "stream",
     "text": [
      " 80%|███████▉  | 1000/1255 [25:52<06:15,  1.47s/it]"
     ]
    },
    {
     "name": "stdout",
     "output_type": "stream",
     "text": [
      "{'loss': 0.499, 'learning_rate': 1.688741721854305e-05, 'epoch': 3.98}\n"
     ]
    },
    {
     "name": "stderr",
     "output_type": "stream",
     "text": [
      " 80%|████████  | 1004/1255 [25:58<06:01,  1.44s/it]\n",
      " 80%|████████  | 1004/1255 [26:23<06:01,  1.44s/it]"
     ]
    },
    {
     "name": "stdout",
     "output_type": "stream",
     "text": [
      "{'eval_loss': 0.5048550367355347, 'eval_accuracy': 0.6937250996015937, 'eval_f1': 0.6567039977828358, 'eval_precision': 0.8071944151106418, 'eval_recall': 0.6937250996015937, 'eval_runtime': 25.6317, 'eval_samples_per_second': 78.34, 'eval_steps_per_second': 4.916, 'epoch': 4.0}\n"
     ]
    },
    {
     "name": "stderr",
     "output_type": "stream",
     "text": [
      " 84%|████████▎ | 1050/1255 [27:36<05:01,  1.47s/it]"
     ]
    },
    {
     "name": "stdout",
     "output_type": "stream",
     "text": [
      "{'loss': 0.5105, 'learning_rate': 1.3576158940397351e-05, 'epoch': 4.18}\n"
     ]
    },
    {
     "name": "stderr",
     "output_type": "stream",
     "text": [
      " 88%|████████▊ | 1100/1255 [28:49<03:42,  1.43s/it]"
     ]
    },
    {
     "name": "stdout",
     "output_type": "stream",
     "text": [
      "{'loss': 0.5154, 'learning_rate': 1.0264900662251655e-05, 'epoch': 4.38}\n"
     ]
    },
    {
     "name": "stderr",
     "output_type": "stream",
     "text": [
      " 92%|█████████▏| 1150/1255 [30:01<02:31,  1.44s/it]"
     ]
    },
    {
     "name": "stdout",
     "output_type": "stream",
     "text": [
      "{'loss': 0.508, 'learning_rate': 6.95364238410596e-06, 'epoch': 4.58}\n"
     ]
    },
    {
     "name": "stderr",
     "output_type": "stream",
     "text": [
      " 96%|█████████▌| 1200/1255 [31:13<01:18,  1.43s/it]"
     ]
    },
    {
     "name": "stdout",
     "output_type": "stream",
     "text": [
      "{'loss': 0.5114, 'learning_rate': 3.642384105960265e-06, 'epoch': 4.78}\n"
     ]
    },
    {
     "name": "stderr",
     "output_type": "stream",
     "text": [
      "100%|█████████▉| 1250/1255 [32:25<00:07,  1.44s/it]"
     ]
    },
    {
     "name": "stdout",
     "output_type": "stream",
     "text": [
      "{'loss': 0.5042, 'learning_rate': 3.3112582781456954e-07, 'epoch': 4.98}\n"
     ]
    },
    {
     "name": "stderr",
     "output_type": "stream",
     "text": [
      "100%|██████████| 1255/1255 [32:32<00:00,  1.36s/it]\n",
      "100%|██████████| 1255/1255 [32:58<00:00,  1.36s/it]"
     ]
    },
    {
     "name": "stdout",
     "output_type": "stream",
     "text": [
      "{'eval_loss': 0.504021942615509, 'eval_accuracy': 0.6937250996015937, 'eval_f1': 0.6567039977828358, 'eval_precision': 0.8071944151106418, 'eval_recall': 0.6937250996015937, 'eval_runtime': 25.8354, 'eval_samples_per_second': 77.723, 'eval_steps_per_second': 4.877, 'epoch': 5.0}\n"
     ]
    },
    {
     "name": "stderr",
     "output_type": "stream",
     "text": [
      "c:\\Users\\dlavk\\anaconda3\\envs\\test_pytorch\\Lib\\site-packages\\transformers\\trainer.py:2261: FutureWarning: You are using `torch.load` with `weights_only=False` (the current default value), which uses the default pickle module implicitly. It is possible to construct malicious pickle data which will execute arbitrary code during unpickling (See https://github.com/pytorch/pytorch/blob/main/SECURITY.md#untrusted-models for more details). In a future release, the default value for `weights_only` will be flipped to `True`. This limits the functions that could be executed during unpickling. Arbitrary objects will no longer be allowed to be loaded via this mode unless they are explicitly allowlisted by the user via `torch.serialization.add_safe_globals`. We recommend you start setting `weights_only=True` for any use case where you don't have full control of the loaded file. Please open an issue on GitHub for any issues related to this experimental feature.\n",
      "  state_dict = torch.load(best_model_path, map_location=\"cpu\")\n",
      "100%|██████████| 1255/1255 [33:03<00:00,  1.58s/it]\n"
     ]
    },
    {
     "name": "stdout",
     "output_type": "stream",
     "text": [
      "{'train_runtime': 1983.019, 'train_samples_per_second': 20.247, 'train_steps_per_second': 0.633, 'train_loss': 0.5543638596021797, 'epoch': 5.0}\n"
     ]
    },
    {
     "name": "stderr",
     "output_type": "stream",
     "text": [
      "100%|██████████| 126/126 [00:24<00:00,  5.05it/s]\n",
      "c:\\Users\\dlavk\\anaconda3\\envs\\test_pytorch\\Lib\\site-packages\\huggingface_hub\\file_download.py:1150: FutureWarning: `resume_download` is deprecated and will be removed in version 1.0.0. Downloads always resume when possible. If you want to force a new download, use `force_download=True`.\n",
      "  warnings.warn(\n"
     ]
    },
    {
     "name": "stdout",
     "output_type": "stream",
     "text": [
      "Results:\n",
      "Epoch 5 | LR: 1e-05 | Batch Size: 16 | WD: 0.01 | Warmup: 500\n",
      "Loss: 0.5040 | Acc: 0.6937 | F1: 0.6567 | Prec: 0.8072 | Rec: 0.6937\n",
      "--------------------------------------------------\n",
      "Testing combination: LR: 1e-05, Batch Size: 16, Epochs: 5, WD: 0.005, Warmup Steps: 500\n"
     ]
    },
    {
     "name": "stderr",
     "output_type": "stream",
     "text": [
      "c:\\Users\\dlavk\\anaconda3\\envs\\test_pytorch\\Lib\\site-packages\\transformers\\modeling_utils.py:484: FutureWarning: You are using `torch.load` with `weights_only=False` (the current default value), which uses the default pickle module implicitly. It is possible to construct malicious pickle data which will execute arbitrary code during unpickling (See https://github.com/pytorch/pytorch/blob/main/SECURITY.md#untrusted-models for more details). In a future release, the default value for `weights_only` will be flipped to `True`. This limits the functions that could be executed during unpickling. Arbitrary objects will no longer be allowed to be loaded via this mode unless they are explicitly allowlisted by the user via `torch.serialization.add_safe_globals`. We recommend you start setting `weights_only=True` for any use case where you don't have full control of the loaded file. Please open an issue on GitHub for any issues related to this experimental feature.\n",
      "  return torch.load(checkpoint_file, map_location=map_location)\n",
      "Some weights of ElectraForSequenceClassification were not initialized from the model checkpoint at beomi/KcELECTRA-base-v2022 and are newly initialized: ['classifier.dense.weight', 'classifier.dense.bias', 'classifier.out_proj.weight', 'classifier.out_proj.bias']\n",
      "You should probably TRAIN this model on a down-stream task to be able to use it for predictions and inference.\n",
      "c:\\Users\\dlavk\\anaconda3\\envs\\test_pytorch\\Lib\\site-packages\\transformers\\optimization.py:411: FutureWarning: This implementation of AdamW is deprecated and will be removed in a future version. Use the PyTorch implementation torch.optim.AdamW instead, or set `no_deprecation_warning=True` to disable this warning\n",
      "  warnings.warn(\n",
      "c:\\Users\\dlavk\\anaconda3\\envs\\test_pytorch\\Lib\\site-packages\\accelerate\\accelerator.py:451: FutureWarning: Passing the following arguments to `Accelerator` is deprecated and will be removed in version 1.0 of Accelerate: dict_keys(['dispatch_batches']). Please pass an `accelerate.DataLoaderConfiguration` instead: \n",
      "dataloader_config = DataLoaderConfiguration(dispatch_batches=None)\n",
      "  warnings.warn(\n",
      "  4%|▍         | 50/1255 [03:11<1:17:29,  3.86s/it]"
     ]
    },
    {
     "name": "stdout",
     "output_type": "stream",
     "text": [
      "{'loss': 0.6954, 'learning_rate': 5e-06, 'epoch': 0.2}\n"
     ]
    },
    {
     "name": "stderr",
     "output_type": "stream",
     "text": [
      "  8%|▊         | 100/1255 [06:22<1:13:41,  3.83s/it]"
     ]
    },
    {
     "name": "stdout",
     "output_type": "stream",
     "text": [
      "{'loss': 0.693, 'learning_rate': 1e-05, 'epoch': 0.4}\n"
     ]
    },
    {
     "name": "stderr",
     "output_type": "stream",
     "text": [
      " 12%|█▏        | 150/1255 [09:34<1:10:21,  3.82s/it]"
     ]
    },
    {
     "name": "stdout",
     "output_type": "stream",
     "text": [
      "{'loss': 0.6854, 'learning_rate': 1.5e-05, 'epoch': 0.6}\n"
     ]
    },
    {
     "name": "stderr",
     "output_type": "stream",
     "text": [
      " 15%|█▌        | 194/1255 [12:25<1:09:07,  3.91s/it]"
     ]
    },
    {
     "ename": "KeyboardInterrupt",
     "evalue": "",
     "output_type": "error",
     "traceback": [
      "\u001b[1;31m---------------------------------------------------------------------------\u001b[0m",
      "\u001b[1;31mKeyboardInterrupt\u001b[0m                         Traceback (most recent call last)",
      "Cell \u001b[1;32mIn[33], line 42\u001b[0m\n\u001b[0;32m     31\u001b[0m trainer \u001b[38;5;241m=\u001b[39m Trainer(\n\u001b[0;32m     32\u001b[0m     model\u001b[38;5;241m=\u001b[39mmodel,\n\u001b[0;32m     33\u001b[0m     args\u001b[38;5;241m=\u001b[39mtraining_args,\n\u001b[1;32m   (...)\u001b[0m\n\u001b[0;32m     37\u001b[0m     optimizers\u001b[38;5;241m=\u001b[39m(optimizer, \u001b[38;5;28;01mNone\u001b[39;00m)\n\u001b[0;32m     38\u001b[0m )\n\u001b[0;32m     40\u001b[0m \u001b[38;5;28;01mtry\u001b[39;00m:\n\u001b[0;32m     41\u001b[0m     \u001b[38;5;66;03m# 모델 학습\u001b[39;00m\n\u001b[1;32m---> 42\u001b[0m     \u001b[43mtrainer\u001b[49m\u001b[38;5;241;43m.\u001b[39;49m\u001b[43mtrain\u001b[49m\u001b[43m(\u001b[49m\u001b[43m)\u001b[49m\n\u001b[0;32m     44\u001b[0m     \u001b[38;5;66;03m# 모델 평가\u001b[39;00m\n\u001b[0;32m     45\u001b[0m     eval_results \u001b[38;5;241m=\u001b[39m trainer\u001b[38;5;241m.\u001b[39mevaluate()\n",
      "File \u001b[1;32mc:\\Users\\dlavk\\anaconda3\\envs\\test_pytorch\\Lib\\site-packages\\transformers\\trainer.py:1591\u001b[0m, in \u001b[0;36mTrainer.train\u001b[1;34m(self, resume_from_checkpoint, trial, ignore_keys_for_eval, **kwargs)\u001b[0m\n\u001b[0;32m   1589\u001b[0m         hf_hub_utils\u001b[38;5;241m.\u001b[39menable_progress_bars()\n\u001b[0;32m   1590\u001b[0m \u001b[38;5;28;01melse\u001b[39;00m:\n\u001b[1;32m-> 1591\u001b[0m     \u001b[38;5;28;01mreturn\u001b[39;00m \u001b[43minner_training_loop\u001b[49m\u001b[43m(\u001b[49m\n\u001b[0;32m   1592\u001b[0m \u001b[43m        \u001b[49m\u001b[43margs\u001b[49m\u001b[38;5;241;43m=\u001b[39;49m\u001b[43margs\u001b[49m\u001b[43m,\u001b[49m\n\u001b[0;32m   1593\u001b[0m \u001b[43m        \u001b[49m\u001b[43mresume_from_checkpoint\u001b[49m\u001b[38;5;241;43m=\u001b[39;49m\u001b[43mresume_from_checkpoint\u001b[49m\u001b[43m,\u001b[49m\n\u001b[0;32m   1594\u001b[0m \u001b[43m        \u001b[49m\u001b[43mtrial\u001b[49m\u001b[38;5;241;43m=\u001b[39;49m\u001b[43mtrial\u001b[49m\u001b[43m,\u001b[49m\n\u001b[0;32m   1595\u001b[0m \u001b[43m        \u001b[49m\u001b[43mignore_keys_for_eval\u001b[49m\u001b[38;5;241;43m=\u001b[39;49m\u001b[43mignore_keys_for_eval\u001b[49m\u001b[43m,\u001b[49m\n\u001b[0;32m   1596\u001b[0m \u001b[43m    \u001b[49m\u001b[43m)\u001b[49m\n",
      "File \u001b[1;32mc:\\Users\\dlavk\\anaconda3\\envs\\test_pytorch\\Lib\\site-packages\\transformers\\trainer.py:1892\u001b[0m, in \u001b[0;36mTrainer._inner_training_loop\u001b[1;34m(self, batch_size, args, resume_from_checkpoint, trial, ignore_keys_for_eval)\u001b[0m\n\u001b[0;32m   1889\u001b[0m     \u001b[38;5;28mself\u001b[39m\u001b[38;5;241m.\u001b[39mcontrol \u001b[38;5;241m=\u001b[39m \u001b[38;5;28mself\u001b[39m\u001b[38;5;241m.\u001b[39mcallback_handler\u001b[38;5;241m.\u001b[39mon_step_begin(args, \u001b[38;5;28mself\u001b[39m\u001b[38;5;241m.\u001b[39mstate, \u001b[38;5;28mself\u001b[39m\u001b[38;5;241m.\u001b[39mcontrol)\n\u001b[0;32m   1891\u001b[0m \u001b[38;5;28;01mwith\u001b[39;00m \u001b[38;5;28mself\u001b[39m\u001b[38;5;241m.\u001b[39maccelerator\u001b[38;5;241m.\u001b[39maccumulate(model):\n\u001b[1;32m-> 1892\u001b[0m     tr_loss_step \u001b[38;5;241m=\u001b[39m \u001b[38;5;28;43mself\u001b[39;49m\u001b[38;5;241;43m.\u001b[39;49m\u001b[43mtraining_step\u001b[49m\u001b[43m(\u001b[49m\u001b[43mmodel\u001b[49m\u001b[43m,\u001b[49m\u001b[43m \u001b[49m\u001b[43minputs\u001b[49m\u001b[43m)\u001b[49m\n\u001b[0;32m   1894\u001b[0m \u001b[38;5;28;01mif\u001b[39;00m (\n\u001b[0;32m   1895\u001b[0m     args\u001b[38;5;241m.\u001b[39mlogging_nan_inf_filter\n\u001b[0;32m   1896\u001b[0m     \u001b[38;5;129;01mand\u001b[39;00m \u001b[38;5;129;01mnot\u001b[39;00m is_torch_tpu_available()\n\u001b[0;32m   1897\u001b[0m     \u001b[38;5;129;01mand\u001b[39;00m (torch\u001b[38;5;241m.\u001b[39misnan(tr_loss_step) \u001b[38;5;129;01mor\u001b[39;00m torch\u001b[38;5;241m.\u001b[39misinf(tr_loss_step))\n\u001b[0;32m   1898\u001b[0m ):\n\u001b[0;32m   1899\u001b[0m     \u001b[38;5;66;03m# if loss is nan or inf simply add the average of previous logged losses\u001b[39;00m\n\u001b[0;32m   1900\u001b[0m     tr_loss \u001b[38;5;241m+\u001b[39m\u001b[38;5;241m=\u001b[39m tr_loss \u001b[38;5;241m/\u001b[39m (\u001b[38;5;241m1\u001b[39m \u001b[38;5;241m+\u001b[39m \u001b[38;5;28mself\u001b[39m\u001b[38;5;241m.\u001b[39mstate\u001b[38;5;241m.\u001b[39mglobal_step \u001b[38;5;241m-\u001b[39m \u001b[38;5;28mself\u001b[39m\u001b[38;5;241m.\u001b[39m_globalstep_last_logged)\n",
      "File \u001b[1;32mc:\\Users\\dlavk\\anaconda3\\envs\\test_pytorch\\Lib\\site-packages\\transformers\\trainer.py:2787\u001b[0m, in \u001b[0;36mTrainer.training_step\u001b[1;34m(self, model, inputs)\u001b[0m\n\u001b[0;32m   2785\u001b[0m         scaled_loss\u001b[38;5;241m.\u001b[39mbackward()\n\u001b[0;32m   2786\u001b[0m \u001b[38;5;28;01melse\u001b[39;00m:\n\u001b[1;32m-> 2787\u001b[0m     \u001b[38;5;28;43mself\u001b[39;49m\u001b[38;5;241;43m.\u001b[39;49m\u001b[43maccelerator\u001b[49m\u001b[38;5;241;43m.\u001b[39;49m\u001b[43mbackward\u001b[49m\u001b[43m(\u001b[49m\u001b[43mloss\u001b[49m\u001b[43m)\u001b[49m\n\u001b[0;32m   2789\u001b[0m \u001b[38;5;28;01mreturn\u001b[39;00m loss\u001b[38;5;241m.\u001b[39mdetach() \u001b[38;5;241m/\u001b[39m \u001b[38;5;28mself\u001b[39m\u001b[38;5;241m.\u001b[39margs\u001b[38;5;241m.\u001b[39mgradient_accumulation_steps\n",
      "File \u001b[1;32mc:\\Users\\dlavk\\anaconda3\\envs\\test_pytorch\\Lib\\site-packages\\accelerate\\accelerator.py:2159\u001b[0m, in \u001b[0;36mAccelerator.backward\u001b[1;34m(self, loss, **kwargs)\u001b[0m\n\u001b[0;32m   2157\u001b[0m     \u001b[38;5;28mself\u001b[39m\u001b[38;5;241m.\u001b[39mlomo_backward(loss, learning_rate)\n\u001b[0;32m   2158\u001b[0m \u001b[38;5;28;01melse\u001b[39;00m:\n\u001b[1;32m-> 2159\u001b[0m     \u001b[43mloss\u001b[49m\u001b[38;5;241;43m.\u001b[39;49m\u001b[43mbackward\u001b[49m\u001b[43m(\u001b[49m\u001b[38;5;241;43m*\u001b[39;49m\u001b[38;5;241;43m*\u001b[39;49m\u001b[43mkwargs\u001b[49m\u001b[43m)\u001b[49m\n",
      "File \u001b[1;32mc:\\Users\\dlavk\\anaconda3\\envs\\test_pytorch\\Lib\\site-packages\\torch\\_tensor.py:521\u001b[0m, in \u001b[0;36mTensor.backward\u001b[1;34m(self, gradient, retain_graph, create_graph, inputs)\u001b[0m\n\u001b[0;32m    511\u001b[0m \u001b[38;5;28;01mif\u001b[39;00m has_torch_function_unary(\u001b[38;5;28mself\u001b[39m):\n\u001b[0;32m    512\u001b[0m     \u001b[38;5;28;01mreturn\u001b[39;00m handle_torch_function(\n\u001b[0;32m    513\u001b[0m         Tensor\u001b[38;5;241m.\u001b[39mbackward,\n\u001b[0;32m    514\u001b[0m         (\u001b[38;5;28mself\u001b[39m,),\n\u001b[1;32m   (...)\u001b[0m\n\u001b[0;32m    519\u001b[0m         inputs\u001b[38;5;241m=\u001b[39minputs,\n\u001b[0;32m    520\u001b[0m     )\n\u001b[1;32m--> 521\u001b[0m \u001b[43mtorch\u001b[49m\u001b[38;5;241;43m.\u001b[39;49m\u001b[43mautograd\u001b[49m\u001b[38;5;241;43m.\u001b[39;49m\u001b[43mbackward\u001b[49m\u001b[43m(\u001b[49m\n\u001b[0;32m    522\u001b[0m \u001b[43m    \u001b[49m\u001b[38;5;28;43mself\u001b[39;49m\u001b[43m,\u001b[49m\u001b[43m \u001b[49m\u001b[43mgradient\u001b[49m\u001b[43m,\u001b[49m\u001b[43m \u001b[49m\u001b[43mretain_graph\u001b[49m\u001b[43m,\u001b[49m\u001b[43m \u001b[49m\u001b[43mcreate_graph\u001b[49m\u001b[43m,\u001b[49m\u001b[43m \u001b[49m\u001b[43minputs\u001b[49m\u001b[38;5;241;43m=\u001b[39;49m\u001b[43minputs\u001b[49m\n\u001b[0;32m    523\u001b[0m \u001b[43m\u001b[49m\u001b[43m)\u001b[49m\n",
      "File \u001b[1;32mc:\\Users\\dlavk\\anaconda3\\envs\\test_pytorch\\Lib\\site-packages\\torch\\autograd\\__init__.py:289\u001b[0m, in \u001b[0;36mbackward\u001b[1;34m(tensors, grad_tensors, retain_graph, create_graph, grad_variables, inputs)\u001b[0m\n\u001b[0;32m    284\u001b[0m     retain_graph \u001b[38;5;241m=\u001b[39m create_graph\n\u001b[0;32m    286\u001b[0m \u001b[38;5;66;03m# The reason we repeat the same comment below is that\u001b[39;00m\n\u001b[0;32m    287\u001b[0m \u001b[38;5;66;03m# some Python versions print out the first line of a multi-line function\u001b[39;00m\n\u001b[0;32m    288\u001b[0m \u001b[38;5;66;03m# calls in the traceback and some print out the last line\u001b[39;00m\n\u001b[1;32m--> 289\u001b[0m \u001b[43m_engine_run_backward\u001b[49m\u001b[43m(\u001b[49m\n\u001b[0;32m    290\u001b[0m \u001b[43m    \u001b[49m\u001b[43mtensors\u001b[49m\u001b[43m,\u001b[49m\n\u001b[0;32m    291\u001b[0m \u001b[43m    \u001b[49m\u001b[43mgrad_tensors_\u001b[49m\u001b[43m,\u001b[49m\n\u001b[0;32m    292\u001b[0m \u001b[43m    \u001b[49m\u001b[43mretain_graph\u001b[49m\u001b[43m,\u001b[49m\n\u001b[0;32m    293\u001b[0m \u001b[43m    \u001b[49m\u001b[43mcreate_graph\u001b[49m\u001b[43m,\u001b[49m\n\u001b[0;32m    294\u001b[0m \u001b[43m    \u001b[49m\u001b[43minputs\u001b[49m\u001b[43m,\u001b[49m\n\u001b[0;32m    295\u001b[0m \u001b[43m    \u001b[49m\u001b[43mallow_unreachable\u001b[49m\u001b[38;5;241;43m=\u001b[39;49m\u001b[38;5;28;43;01mTrue\u001b[39;49;00m\u001b[43m,\u001b[49m\n\u001b[0;32m    296\u001b[0m \u001b[43m    \u001b[49m\u001b[43maccumulate_grad\u001b[49m\u001b[38;5;241;43m=\u001b[39;49m\u001b[38;5;28;43;01mTrue\u001b[39;49;00m\u001b[43m,\u001b[49m\n\u001b[0;32m    297\u001b[0m \u001b[43m\u001b[49m\u001b[43m)\u001b[49m\n",
      "File \u001b[1;32mc:\\Users\\dlavk\\anaconda3\\envs\\test_pytorch\\Lib\\site-packages\\torch\\autograd\\graph.py:768\u001b[0m, in \u001b[0;36m_engine_run_backward\u001b[1;34m(t_outputs, *args, **kwargs)\u001b[0m\n\u001b[0;32m    766\u001b[0m     unregister_hooks \u001b[38;5;241m=\u001b[39m _register_logging_hooks_on_whole_graph(t_outputs)\n\u001b[0;32m    767\u001b[0m \u001b[38;5;28;01mtry\u001b[39;00m:\n\u001b[1;32m--> 768\u001b[0m     \u001b[38;5;28;01mreturn\u001b[39;00m \u001b[43mVariable\u001b[49m\u001b[38;5;241;43m.\u001b[39;49m\u001b[43m_execution_engine\u001b[49m\u001b[38;5;241;43m.\u001b[39;49m\u001b[43mrun_backward\u001b[49m\u001b[43m(\u001b[49m\u001b[43m  \u001b[49m\u001b[38;5;66;43;03m# Calls into the C++ engine to run the backward pass\u001b[39;49;00m\n\u001b[0;32m    769\u001b[0m \u001b[43m        \u001b[49m\u001b[43mt_outputs\u001b[49m\u001b[43m,\u001b[49m\u001b[43m \u001b[49m\u001b[38;5;241;43m*\u001b[39;49m\u001b[43margs\u001b[49m\u001b[43m,\u001b[49m\u001b[43m \u001b[49m\u001b[38;5;241;43m*\u001b[39;49m\u001b[38;5;241;43m*\u001b[39;49m\u001b[43mkwargs\u001b[49m\n\u001b[0;32m    770\u001b[0m \u001b[43m    \u001b[49m\u001b[43m)\u001b[49m  \u001b[38;5;66;03m# Calls into the C++ engine to run the backward pass\u001b[39;00m\n\u001b[0;32m    771\u001b[0m \u001b[38;5;28;01mfinally\u001b[39;00m:\n\u001b[0;32m    772\u001b[0m     \u001b[38;5;28;01mif\u001b[39;00m attach_logging_hooks:\n",
      "\u001b[1;31mKeyboardInterrupt\u001b[0m: "
     ]
    }
   ],
   "source": [
    "# 그리드 서치 시작\n",
    "for param_set in param_combinations:\n",
    "    # 각 하이퍼파라미터 조합을 변수에 할당\n",
    "    learning_rate, batch_size, num_train_epochs, weight_decay, warmup_steps = param_set\n",
    "    \n",
    "    # 현재 조합에 대한 정보를 출력\n",
    "    print(f\"Testing combination: LR: {learning_rate}, Batch Size: {batch_size}, Epochs: {num_train_epochs}, WD: {weight_decay}, Warmup Steps: {warmup_steps}\")\n",
    "\n",
    "    # 모델과 옵티마이저 초기화 (사용자 정의 함수로 가정)\n",
    "    model, optimizer = initialize_model()\n",
    "\n",
    "    # TrainingArguments 설정\n",
    "    training_args = TrainingArguments(\n",
    "        output_dir                  = './results',          # 학습 결과를 저장할 디렉토리\n",
    "        num_train_epochs            = num_train_epochs,     # 학습 에폭 수\n",
    "        per_device_train_batch_size = batch_size,           # 훈련 배치 크기\n",
    "        per_device_eval_batch_size  = batch_size,           # 평가 배치 크기\n",
    "        warmup_steps                = warmup_steps,         # 웜업 스텝 수\n",
    "        weight_decay                = weight_decay,         # 가중치 감소 비율\n",
    "        logging_dir                 = './logs',             # 로그를 저장할 디렉토리\n",
    "        logging_steps               = 50,                   # 로그를 기록할 스텝 간격\n",
    "        evaluation_strategy         = \"epoch\",              # 에폭마다 평가 수행\n",
    "        save_total_limit            = 1,                    # 최대 1개의 체크포인트만 저장\n",
    "        save_strategy               = \"epoch\",              # 에폭마다 모델을 저장\n",
    "        load_best_model_at_end      = True,                 # 학습 종료 시 가장 좋은 모델을 로드\n",
    "        gradient_accumulation_steps = 2,                    # 그래디언트 누적 스텝 수\n",
    "        no_cuda                     = False,                # CUDA 사용 여부 (False로 설정하면 GPU를 사용)\n",
    "        learning_rate               = learning_rate,        # 학습률\n",
    "        report_to                   = \"none\",               # 로깅을 어디로 보낼지 설정 (none이면 로깅하지 않음)\n",
    "    )\n",
    "\n",
    "    # Trainer 설정\n",
    "    trainer = Trainer(\n",
    "        model                       = model,                # 학습할 모델\n",
    "        args                        = training_args,        # 학습 설정\n",
    "        train_dataset               = train_dataset,        # 훈련 데이터셋\n",
    "        eval_dataset                = eval_dataset,         # 평가 데이터셋\n",
    "        compute_metrics             = compute_metrics,      # 평가지표 계산 함수\n",
    "        optimizers                  = (optimizer, None)     # 옵티마이저 설정\n",
    "    )\n",
    "\n",
    "    try:\n",
    "        # 모델 학습\n",
    "        trainer.train()\n",
    "\n",
    "        # 모델 평가\n",
    "        eval_results = trainer.evaluate()\n",
    "\n",
    "        # 평가 지표를 로그 리스트에 저장 /  조합 평가 결과를 기록\n",
    "        log_list.append({\n",
    "            'epoch'         : num_train_epochs,\n",
    "            'learning_rate' : learning_rate,\n",
    "            'batch_size'    : batch_size,\n",
    "            'weight_decay'  : weight_decay,\n",
    "            'warmup_steps'  : warmup_steps,\n",
    "            'eval_loss'     : eval_results.get('eval_loss'),\n",
    "            'eval_accuracy' : eval_results.get('eval_accuracy'),\n",
    "            'eval_f1'       : eval_results.get('eval_f1'),\n",
    "            'eval_precision': eval_results.get('eval_precision'),\n",
    "            'eval_recall'   : eval_results.get('eval_recall')\n",
    "        })\n",
    "\n",
    "        # 현재 에폭과 평가 결과 출력\n",
    "        print(f\"Results:\")\n",
    "        print(f\"Epoch {num_train_epochs} | LR: {learning_rate} | Batch Size: {batch_size} | WD: {weight_decay} | Warmup: {warmup_steps}\")\n",
    "        print(f\"Loss: {eval_results['eval_loss']:.4f} | Acc: {eval_results['eval_accuracy']:.4f} | F1: {eval_results['eval_f1']:.4f} | Prec: {eval_results['eval_precision']:.4f} | Rec: {eval_results['eval_recall']:.4f}\")\n",
    "        print(\"-\" * 50)\n",
    "\n",
    "        # 최적의 하이퍼파라미터 및 모델 업데이트\n",
    "        if eval_results['eval_accuracy'] > best_accuracy:\n",
    "            best_accuracy = eval_results['eval_accuracy']\n",
    "            best_params = {\n",
    "                'learning_rate'     : learning_rate,\n",
    "                'batch_size'        : batch_size,\n",
    "                'num_train_epochs'  : num_train_epochs,\n",
    "                'weight_decay'      : weight_decay,\n",
    "                'warmup_steps'      : warmup_steps\n",
    "            }\n",
    "            best_model = model\n",
    "\n",
    "    except Exception as e:\n",
    "        print(f\"An error occurred during training: {e}\")\n",
    "\n",
    "# 최적의 하이퍼파라미터 출력\n",
    "print(f\"Best Accuracy: {best_accuracy}\")\n",
    "print(f\"Best Hyperparameters: {best_params}\")\n",
    "\n",
    "# 로그를 DataFrame으로 변환하여 출력\n",
    "df_logs = pd.DataFrame(log_list)\n",
    "print(df_logs)"
   ]
  },
  {
   "cell_type": "code",
   "execution_count": 14,
   "id": "8b6e23fb",
   "metadata": {},
   "outputs": [
    {
     "name": "stderr",
     "output_type": "stream",
     "text": [
      "100%|██████████| 502/502 [01:46<00:00,  4.71it/s]\n",
      "100%|██████████| 126/126 [00:26<00:00,  4.75it/s]\n",
      "100%|██████████| 126/126 [00:25<00:00,  5.00it/s]\n"
     ]
    },
    {
     "name": "stdout",
     "output_type": "stream",
     "text": [
      "Training Accuracy: 0.6909090909090909\n",
      "Validation Accuracy: 0.6967131474103586\n",
      "\n",
      "Accuracy on Validation Set: 0.6967131474103586\n",
      "Confusion Matrix on Validation Set:\n",
      " [[ 386  577]\n",
      " [  32 1013]]\n",
      "Classification Report on Validation Set:\n",
      "               precision    recall  f1-score   support\n",
      "\n",
      "           0       0.92      0.40      0.56       963\n",
      "           1       0.64      0.97      0.77      1045\n",
      "\n",
      "    accuracy                           0.70      2008\n",
      "   macro avg       0.78      0.69      0.66      2008\n",
      "weighted avg       0.77      0.70      0.67      2008\n",
      "\n"
     ]
    },
    {
     "data": {
      "image/png": "[encoded data removed]",
      "text/plain": [
       "<Figure size 1000x800 with 1 Axes>"
      ]
     },
     "metadata": {},
     "output_type": "display_data"
    },
    {
     "name": "stdout",
     "output_type": "stream",
     "text": [
      "The model may be underfitting.\n"
     ]
    }
   ],
   "source": [
    "# 훈련 데이터에 대한 평가\n",
    "train_results = trainer.evaluate(train_dataset)\n",
    "\n",
    "# 검증 데이터에 대한 평가\n",
    "eval_results = trainer.evaluate(eval_dataset)\n",
    "\n",
    "# 검증 데이터에 대한 예측 수행\n",
    "y_pred = trainer.predict(eval_dataset).predictions.argmax(-1)\n",
    "\n",
    "# 평가 결과 출력\n",
    "print(\"Training Accuracy:\", train_results['eval_accuracy'])\n",
    "print(\"Validation Accuracy:\", eval_results['eval_accuracy'])\n",
    "\n",
    "# 검증 데이터에서의 정확도, 혼동행렬, 분류 보고서를 출력\n",
    "print(\"\\nAccuracy on Validation Set:\", accuracy_score(eval_labels, y_pred))\n",
    "print(\"Confusion Matrix on Validation Set:\\n\", confusion_matrix(eval_labels, y_pred))\n",
    "print(\"Classification Report on Validation Set:\\n\", classification_report(eval_labels, y_pred))\n",
    "\n",
    "# 혼동행렬 계산 및 시각화\n",
    "conf_matrix = confusion_matrix(eval_labels, y_pred)\n",
    "\n",
    "plt.figure(figsize=(10, 8))  \n",
    "sns.heatmap(conf_matrix, annot=True, fmt='d', cmap='Blues', cbar=False)           # 혼동행렬을 히트맵으로 시각화\n",
    "plt.title('Confusion Matrix on Validation Set')\n",
    "plt.xlabel('Predicted Labels') \n",
    "plt.ylabel('True Labels')  \n",
    "plt.show()  \n",
    "\n",
    "# 훈련 데이터와 검증 데이터의 정확도를 비교하여 과대적합/과소적합 판별\n",
    "train_accuracy = train_results['eval_accuracy']                                   # 훈련 데이터에서의 정확도\n",
    "val_accuracy = eval_results['eval_accuracy']                                      # 검증 데이터에서의 정확도\n",
    "\n",
    "# 훈련 데이터의 정확도가 검증 데이터보다 현저히 높을 경우 과대적합 가능성을 제시\n",
    "if train_accuracy > val_accuracy and (train_accuracy - val_accuracy) > 0.05:\n",
    "    print(\"The model may be overfitting.\")\n",
    "# 훈련 데이터의 정확도가 검증 데이터보다 낮을 경우 과소적합 가능성을 제시\n",
    "elif train_accuracy < val_accuracy:\n",
    "    print(\"The model may be underfitting.\")\n",
    "# 훈련 데이터와 검증 데이터의 정확도가 유사할 경우 모델이 적절하게 학습된 것으로 판단\n",
    "else:\n",
    "    print(\"The model seems to have a good fit.\")\n"
   ]
  },
  {
   "cell_type": "code",
   "execution_count": 16,
   "id": "b90a7fbe",
   "metadata": {},
   "outputs": [
    {
     "name": "stdout",
     "output_type": "stream",
     "text": [
      "   epoch  learning_rate  batch_size  weight_decay  warmup_steps  eval_loss  \\\n",
      "0      5        0.00003          16         0.001           500   0.502946   \n",
      "\n",
      "   eval_accuracy   eval_f1  eval_precision  eval_recall  \n",
      "0       0.696713  0.668233        0.774429     0.696713  \n",
      "   epoch  learning_rate  batch_size  weight_decay  warmup_steps  eval_loss  \\\n",
      "0      5        0.00003          16         0.001           500   0.502946   \n",
      "\n",
      "   eval_accuracy   eval_f1  eval_precision  eval_recall  \n",
      "0       0.696713  0.668233        0.774429     0.696713  \n"
     ]
    }
   ],
   "source": [
    "# 모든 결과 출력\n",
    "print(df_logs)\n",
    "df_logs_sorted = df_logs.sort_values(by='eval_accuracy', ascending=False)\n",
    "\n",
    "# 정렬된 결과 출력 (상위 5개만 예시로 출력)\n",
    "print(df_logs_sorted.head(5))"
   ]
  },
  {
   "cell_type": "code",
   "execution_count": 27,
   "id": "a792005a",
   "metadata": {},
   "outputs": [
    {
     "name": "stdout",
     "output_type": "stream",
     "text": [
      "The model may be underfitting.\n"
     ]
    }
   ],
   "source": [
    "# 과대적합/과소적합 판별\n",
    "train_accuracy = train_results['eval_accuracy']                                     # 훈련 데이터에 대한 정확도 저장\n",
    "val_accuracy = eval_results['eval_accuracy']                                        # 검증 데이터에 대한 정확도 저장\n",
    "\n",
    "# 훈련 정확도가 검증 정확도보다 높고, 두 정확도 간의 차이가 5% 이상일 때 과대적합 가능성 판단\n",
    "if train_accuracy > val_accuracy and (train_accuracy - val_accuracy) > 0.05:\n",
    "    print(\"The model may be overfitting.\")                                          # 모델이 과대적합일 가능성이 있음\n",
    "\n",
    "# 검증 정확도가 훈련 정확도보다 높을 때 과소적합 가능성 판단\n",
    "elif train_accuracy < val_accuracy:\n",
    "    print(\"The model may be underfitting.\")                                         # 모델이 과소적합일 가능성이 있음\n",
    "\n",
    "# 두 정확도 간의 차이가 크지 않을 때 모델이 적절하게 학습되었음을 의미\n",
    "else:\n",
    "    print(\"The model seems to have a good fit.\")                                    # 모델이 잘 맞는 것 같음"
   ]
  },
  {
   "cell_type": "code",
   "execution_count": 17,
   "id": "45597dd0-0c1c-4574-84e5-4e56e8db3509",
   "metadata": {},
   "outputs": [],
   "source": [
    "# 라벨 인덱스와 실제 라벨명을 매핑한 딕셔너리\n",
    "label_map = {0: '호재', 1: '악재'}                                      # 0은 '호재', 1은 '악재'로 매핑\n",
    "\n",
    "# 텍스트를 입력 받아 예측하는 함수 정의\n",
    "def predict_text(text, model, tokenizer, max_len):\n",
    "    \n",
    "    # 텍스트를 토크나이즈하고 인코딩하여 모델 입력 형식으로 변환\n",
    "    encoding = tokenizer.encode_plus(\n",
    "        text,                                                           # 입력 텍스트\n",
    "        add_special_tokens      = True,                                 # 특수 토큰 추가\n",
    "        max_length              = max_len,                              # 최대 길이로 패딩 및 트렁케이션\n",
    "        return_token_type_ids   = False,                                # 토큰 타입 ID 반환 안 함\n",
    "        padding                 = 'max_length',                         # 최대 길이로 패딩\n",
    "        truncation              = True,                                 # 최대 길이를 초과하면 트렁케이션\n",
    "        return_attention_mask   = True,                                 # 어텐션 마스크 반환\n",
    "        return_tensors          = 'pt',                                 # PyTorch 텐서로 반환\n",
    "    )\n",
    "    # 인코딩된 입력 데이터 추출\n",
    "    input_ids      = encoding['input_ids']                              # 입력 토큰 ID\n",
    "    attention_mask = encoding['attention_mask']                         # 어텐션 마스크\n",
    "    \n",
    "    # 모델을 사용하여 예측 수행 (그래디언트 계산 비활성화)\n",
    "    with torch.no_grad():\n",
    "        outputs    = model(input_ids, attention_mask=attention_mask)    # 모델에 입력 데이터 전달\n",
    "    \n",
    "    # 모델의 출력 logits 추출\n",
    "    logits     = outputs.logits                                         # 예측된 로짓\n",
    "    prediction = torch.argmax(logits, dim=-1)                           # 가장 높은 확률의 인덱스 선택\n",
    "    \n",
    "    return prediction.item()                                            # 예측된 라벨 인덱스 반환"
   ]
  },
  {
   "cell_type": "code",
   "execution_count": 24,
   "id": "084697d2-a7d6-4c60-9fa0-09202c33e6a0",
   "metadata": {},
   "outputs": [],
   "source": [
    "# 테스트할 텍스트 입력\n",
    "text_to_predict = '''삼성전자 핸드폰 고장 반품요청 물밀듯 들어와'''"
   ]
  },
  {
   "cell_type": "code",
   "execution_count": 25,
   "id": "4c124a45",
   "metadata": {},
   "outputs": [],
   "source": [
    "# 텍스트를 토큰화\n",
    "encoding = tokenizer.encode_plus(\n",
    "    text_to_predict,\n",
    "    add_special_tokens=True,\n",
    "    max_length=512,\n",
    "    return_token_type_ids=False,\n",
    "    padding='max_length',\n",
    "    truncation=True,\n",
    "    return_attention_mask=True,\n",
    "    return_tensors='pt',\n",
    ")"
   ]
  },
  {
   "cell_type": "code",
   "execution_count": 26,
   "id": "3de85c78",
   "metadata": {},
   "outputs": [
    {
     "name": "stdout",
     "output_type": "stream",
     "text": [
      "Predicted Label: 악재\n"
     ]
    }
   ],
   "source": [
    "# 모델을 GPU로 이동\n",
    "model = model.to('cuda')\n",
    "\n",
    "# 입력 데이터도 GPU로 이동\n",
    "input_ids = encoding['input_ids'].to('cuda')\n",
    "attention_mask = encoding['attention_mask'].to('cuda')\n",
    "\n",
    "# 모델 예측 실행\n",
    "with torch.no_grad():\n",
    "    outputs = model(input_ids, attention_mask=attention_mask)\n",
    "\n",
    "# 예측 결과 인덱스 계산\n",
    "logits = outputs.logits\n",
    "predicted_label_index = torch.argmax(logits, dim=-1).item()\n",
    "\n",
    "# 예측 결과 출력\n",
    "predicted_label = label_map[predicted_label_index]\n",
    "print(f\"Predicted Label: {predicted_label}\")"
   ]
  },
  {
   "cell_type": "markdown",
   "id": "88bcab95",
   "metadata": {},
   "source": [
    "### 모델 저장"
   ]
  },
  {
   "cell_type": "code",
   "execution_count": 47,
   "id": "5b9dadc1-07ac-482d-b792-733d941561a4",
   "metadata": {},
   "outputs": [
    {
     "name": "stdout",
     "output_type": "stream",
     "text": [
      "Model weights have been saved as News_Samsung_KcELECTRA_model.h5\n"
     ]
    }
   ],
   "source": [
    "# 모델의 가중치 저장\n",
    "model_weights = model.state_dict()\n",
    "\n",
    "# h5 파일로 저장\n",
    "with h5py.File('../saved_models/News_Samsung_KcELECTRA.h5', 'w') as h5_file:\n",
    "    for key, value in model_weights.items():\n",
    "        h5_file.create_dataset(key, data=value.cpu().numpy())\n",
    "\n",
    "print(\"Model weights have been saved as News_Samsung_KcELECTRA.h5\")"
   ]
  },
  {
   "cell_type": "code",
   "execution_count": null,
   "id": "82fc1f49",
   "metadata": {},
   "outputs": [],
   "source": [
    "# 모델의 가중치 저장\n",
    "model_weights = model.state_dict()\n",
    "\n",
    "# pkl 파일로 저장\n",
    "torch.save(model_weights, '../saved_models/News_Samsung_KcELECTRA.pkl')\n",
    "print(\"Model weights have been saved as News_Samsung_KcELECTRA.pkl\")"
   ]
  }
 ],
 "metadata": {
  "kernelspec": {
   "display_name": "Python 3 (ipykernel)",
   "language": "python",
   "name": "python3"
  },
  "language_info": {
   "codemirror_mode": {
    "name": "ipython",
    "version": 3
   },
   "file_extension": ".py",
   "mimetype": "text/x-python",
   "name": "python",
   "nbconvert_exporter": "python",
   "pygments_lexer": "ipython3",
   "version": "3.11.9"
  }
 },
 "nbformat": 4,
 "nbformat_minor": 5
}
