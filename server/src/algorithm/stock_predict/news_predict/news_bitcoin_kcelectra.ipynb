{
 "cells": [
  {
   "cell_type": "code",
   "execution_count": 1,
   "id": "25ccff05-ce9a-4c81-984a-49e76c82a892",
   "metadata": {},
   "outputs": [
    {
     "name": "stdout",
     "output_type": "stream",
     "text": [
      "WARNING:tensorflow:From C:\\Users\\4호실-2\\AppData\\Roaming\\Python\\Python312\\site-packages\\tf_keras\\src\\losses.py:2976: The name tf.losses.sparse_softmax_cross_entropy is deprecated. Please use tf.compat.v1.losses.sparse_softmax_cross_entropy instead.\n",
      "\n"
     ]
    }
   ],
   "source": [
    "# 라이브러리 불러오기 및 함수화\n",
    "import os\n",
    "import re\n",
    "import shutil\n",
    "import itertools\n",
    "import numpy as np\n",
    "import pandas as pd\n",
    "from tqdm import tqdm\n",
    "import seaborn as sns\n",
    "import matplotlib.pyplot as plt\n",
    "from sklearn.metrics import confusion_matrix\n",
    "from sklearn.metrics import classification_report, accuracy_score, confusion_matrix\n",
    "\n",
    "import torch\n",
    "from torch.utils.data import Dataset\n",
    "from konlpy.tag import Komoran\n",
    "from pykospacing import Spacing\n",
    "from torch.utils.data import Dataset, DataLoader\n",
    "from sklearn.preprocessing import LabelEncoder\n",
    "from sklearn.model_selection import train_test_split\n",
    "from sklearn.metrics import accuracy_score, precision_recall_fscore_support\n",
    "from transformers import ElectraTokenizer, ElectraForSequenceClassification, Trainer, TrainingArguments\n",
    "from imblearn.over_sampling import RandomOverSampler\n",
    "from imblearn.under_sampling import RandomUnderSampler\n",
    "\n",
    "komoran = Komoran()\n",
    "spacing = Spacing()\n",
    "label_encoder = LabelEncoder()\n",
    "\n",
    "# tqdm과 pandas 통합\n",
    "tqdm.pandas()"
   ]
  },
  {
   "cell_type": "code",
   "execution_count": null,
   "id": "8d19c25c-4272-4955-8d49-3be6c3995ff1",
   "metadata": {},
   "outputs": [],
   "source": [
    "# 데이터 불러오기\n",
    "df = pd.read_excel(r'..\\..\\..\\\\data\\bitcoin_news1.xlsx')"
   ]
  },
  {
   "cell_type": "markdown",
   "id": "ba6564be",
   "metadata": {},
   "source": [
    "자연어처리 (Komoran 토큰화, 불용어처리)"
   ]
  },
  {
   "cell_type": "code",
   "execution_count": null,
   "id": "1b1763ed",
   "metadata": {},
   "outputs": [],
   "source": [
    "# 기본 불용어 불러오기\n",
    "korean_stopwords_path = '..\\..\\..\\data\\stopwords-ko.txt'\n",
    "with open(korean_stopwords_path, encoding='utf8') as f:\n",
    "    stopwords = f.readlines()\n",
    "stopwords = [x.strip() for x in stopwords]\n",
    "\n",
    "# 텍스트 전처리 함수\n",
    "def preprocessing(text):\n",
    "    text = re.sub(r'[^\\w\\s]', '', text)\n",
    "    text = spacing(text)\n",
    "    text = text.lower()\n",
    "    return text\n",
    "\n",
    "# komoran토큰화 & 불용어 처리 함수\n",
    "def remove_stopwords(text, stopwords):\n",
    "    tokens = []\n",
    "    morphs = komoran.morphs(text)\n",
    "    for token in morphs:\n",
    "        if token not in stopwords:\n",
    "            tokens.append(token)\n",
    "    return tokens\n",
    "\n",
    "# 텍스트 전처리 및 토큰화, 불용어 처리\n",
    "cleaned_data = []\n",
    "\n",
    "for i in tqdm(range(len(df)), desc=\"Processing\"):\n",
    "    feature_text = df.loc[i, 'summary_content']\n",
    "    processed_text = preprocessing(feature_text)\n",
    "    cleaned_text = remove_stopwords(processed_text, stopwords)\n",
    "    cleaned_data.append(cleaned_text)\n",
    "\n",
    "df['cleaned'] = cleaned_data\n",
    "\n",
    "# 라벨 인코딩\n",
    "df['Outcome'] = label_encoder.fit_transform(df['Outcome'])\n",
    "\n",
    "# 데이터 불균형 처리\n",
    "X = df['cleaned'].values.reshape(-1, 1)\n",
    "y = df['Outcome']"
   ]
  },
  {
   "cell_type": "code",
   "execution_count": 90,
   "id": "a8bcf8bf-53c9-4939-b5e5-325a7b253a52",
   "metadata": {},
   "outputs": [],
   "source": [
    "# 데이터 불균형 처리\n",
    "X = df['cleaned'].values.reshape(-1, 1)  # 1열의 2D 배열로 변환\n",
    "y = df['Outcome']\n",
    "\n",
    "# # RandomUnderSampler로 언더샘플링\n",
    "# rus = RandomUnderSampler(random_state=42)\n",
    "# X_resampled, y_resampled = rus.fit_resample(X, y)\n",
    "\n",
    "# df_resampled = pd.DataFrame({'cleaned': X_resampled.flatten(), 'Outcome': y_resampled})\n",
    "\n",
    "# 데이터셋 분리\n",
    "train_df, eval_df = train_test_split(df, test_size=0.2, random_state=42)\n",
    "\n",
    "train_texts = train_df['cleaned'].tolist()\n",
    "train_labels = train_df['Outcome'].tolist()\n",
    "\n",
    "eval_texts = eval_df['cleaned'].tolist()\n",
    "eval_labels = eval_df['Outcome'].tolist()"
   ]
  },
  {
   "cell_type": "code",
   "execution_count": null,
   "id": "471de441-9f9f-42b5-a995-e482b94e5542",
   "metadata": {},
   "outputs": [],
   "source": [
    "# PyTorch Dataset 클래스 정의\n",
    "# 뉴스 기사 텍스트와 레이블을 사용하여 PyTorch의 DataLoader와 함께 사용할 수 있는 데이터셋 만듦\n",
    "class NewsDataset(torch.utils.data.Dataset):\n",
    "    def __init__(self, texts, labels, tokenizer, max_len): # 클래스가 초기화될 때 호출\n",
    "        self.texts = texts # 뉴스 기사 텍스트의 리스트\n",
    "        self.labels = labels # 정답 (0, 1)\n",
    "        self.tokenizer = tokenizer\n",
    "        self.max_len = max_len\n",
    "\n",
    "    def __len__(self):\n",
    "        return len(self.texts) # 데이터셋의 전체 길이 반환\n",
    "\n",
    "    def __getitem__(self, idx):\n",
    "        text = self.texts[idx]  # 리스트 인덱싱으로 수정\n",
    "        label = self.labels[idx]  # 리스트 인덱싱으로 수정\n",
    "\n",
    "        #  레이블이 문자열 형식인 경우, 정수로 변환 (레이블이 숫자 형식이어야만 모델에서 학습)\n",
    "        if isinstance(label, str):\n",
    "            label = int(label)  # 문자열 레이블을 정수로 변환\n",
    "\n",
    "        encoding = self.tokenizer.encode_plus(\n",
    "            text,\n",
    "            add_special_tokens=True,\n",
    "            max_length=self.max_len,\n",
    "            return_token_type_ids=False,\n",
    "            padding='max_length',\n",
    "            truncation=True,\n",
    "            return_attention_mask=True,\n",
    "            return_tensors='pt',\n",
    "        )\n",
    "\n",
    "        return {\n",
    "            'input_ids': encoding['input_ids'].flatten(),\n",
    "            'attention_mask': encoding['attention_mask'].flatten(),\n",
    "            'labels': torch.tensor(label, dtype=torch.long)   # Convert label to an integer\n",
    "        }\n"
   ]
  },
  {
   "cell_type": "code",
   "execution_count": 94,
   "id": "aef56660-cbb6-49e0-9543-cb89b0624f69",
   "metadata": {},
   "outputs": [
    {
     "name": "stderr",
     "output_type": "stream",
     "text": [
      "The tokenizer class you load from this checkpoint is not the same type as the class this function is called from. It may result in unexpected tokenization. \n",
      "The tokenizer class you load from this checkpoint is 'BertTokenizer'. \n",
      "The class this function is called from is 'ElectraTokenizer'.\n",
      "C:\\ProgramData\\anaconda3\\Lib\\site-packages\\transformers\\tokenization_utils_base.py:1601: FutureWarning: `clean_up_tokenization_spaces` was not set. It will be set to `True` by default. This behavior will be depracted in transformers v4.45, and will be then set to `False` by default. For more details check this issue: https://github.com/huggingface/transformers/issues/31884\n",
      "  warnings.warn(\n",
      "Some weights of ElectraForSequenceClassification were not initialized from the model checkpoint at beomi/KcELECTRA-base-v2022 and are newly initialized: ['classifier.dense.bias', 'classifier.dense.weight', 'classifier.out_proj.bias', 'classifier.out_proj.weight']\n",
      "You should probably TRAIN this model on a down-stream task to be able to use it for predictions and inference.\n"
     ]
    }
   ],
   "source": [
    "# KcELECTRA 토크나이저 로드\n",
    "tokenizer = ElectraTokenizer.from_pretrained(\"beomi/KcELECTRA-base-v2022\")\n",
    "\n",
    "# 모델 설정 (# num_labels는 분류할 클래스의 수를 지정합니다.)\n",
    "model = ElectraForSequenceClassification.from_pretrained(\"beomi/KcELECTRA-base-v2022\", num_labels=2)"
   ]
  },
  {
   "cell_type": "code",
   "execution_count": 96,
   "id": "7a199fac-ac4e-42e7-8f0f-db1d4b958430",
   "metadata": {},
   "outputs": [],
   "source": [
    "# 평가지표를 계산하는 함수 정의\n",
    "\n",
    "def compute_metrics(eval_pred):\n",
    "    logits, labels = eval_pred\n",
    "\n",
    "    # logits이 numpy.ndarry인 경우 PyTorch 텐서로 변환\n",
    "    if isinstance(logits, np.ndarray):\n",
    "        logits = torch.tensor(logits)\n",
    "      \n",
    "    predictions = torch.argmax(logits, dim=1)\n",
    "    acc = accuracy_score(labels, predictions.numpy())\n",
    "    precision, recall, f1, _ = precision_recall_fscore_support(labels, predictions.numpy(), average='weighted')\n",
    "    return {\n",
    "        'accuracy'  : acc,\n",
    "        'f1'        : f1,\n",
    "        'precision' : precision,\n",
    "        'recall'    : recall\n",
    "    }"
   ]
  },
  {
   "cell_type": "code",
   "execution_count": 98,
   "id": "b21b15c1-6e04-4202-8ace-639ccfa479c2",
   "metadata": {},
   "outputs": [],
   "source": [
    "# 전처리된 텍스트와 라벨로 학습 및 평가 데이터셋 인스턴스 생성\n",
    "train_dataset = NewsDataset(train_texts, train_labels, tokenizer, 512)\n",
    "eval_dataset = NewsDataset(eval_texts, eval_labels, tokenizer, 512)"
   ]
  },
  {
   "cell_type": "code",
   "execution_count": 100,
   "id": "fd2f8492-4313-4c03-908f-0ab69f1d3c9d",
   "metadata": {},
   "outputs": [
    {
     "ename": "PermissionError",
     "evalue": "[WinError 32] 다른 프로세스가 파일을 사용 중이기 때문에 프로세스가 액세스 할 수 없습니다: 'C:\\\\logs\\\\INNORIX\\\\f7c7ed1b-7f8e-42e6-ab39-4c04fb61bd1d\\\\2024-08-27_INNORIX_MFTTRANSFER.LOG'",
     "output_type": "error",
     "traceback": [
      "\u001b[1;31m---------------------------------------------------------------------------\u001b[0m",
      "\u001b[1;31mPermissionError\u001b[0m                           Traceback (most recent call last)",
      "Cell \u001b[1;32mIn[100], line 5\u001b[0m\n\u001b[0;32m      2\u001b[0m logging_dir \u001b[38;5;241m=\u001b[39m os\u001b[38;5;241m.\u001b[39mpath\u001b[38;5;241m.\u001b[39mabspath(\u001b[38;5;124m'\u001b[39m\u001b[38;5;124mC:/logs\u001b[39m\u001b[38;5;124m'\u001b[39m)\n\u001b[0;32m      4\u001b[0m \u001b[38;5;28;01mif\u001b[39;00m os\u001b[38;5;241m.\u001b[39mpath\u001b[38;5;241m.\u001b[39mexists(logging_dir):\n\u001b[1;32m----> 5\u001b[0m     shutil\u001b[38;5;241m.\u001b[39mrmtree(logging_dir)\n\u001b[0;32m      7\u001b[0m os\u001b[38;5;241m.\u001b[39mmakedirs(logging_dir)\n",
      "File \u001b[1;32mC:\\ProgramData\\anaconda3\\Lib\\shutil.py:781\u001b[0m, in \u001b[0;36mrmtree\u001b[1;34m(path, ignore_errors, onerror, onexc, dir_fd)\u001b[0m\n\u001b[0;32m    779\u001b[0m     \u001b[38;5;66;03m# can't continue even if onexc hook returns\u001b[39;00m\n\u001b[0;32m    780\u001b[0m     \u001b[38;5;28;01mreturn\u001b[39;00m\n\u001b[1;32m--> 781\u001b[0m \u001b[38;5;28;01mreturn\u001b[39;00m _rmtree_unsafe(path, onexc)\n",
      "File \u001b[1;32mC:\\ProgramData\\anaconda3\\Lib\\shutil.py:635\u001b[0m, in \u001b[0;36m_rmtree_unsafe\u001b[1;34m(path, onexc)\u001b[0m\n\u001b[0;32m    633\u001b[0m             os\u001b[38;5;241m.\u001b[39munlink(fullname)\n\u001b[0;32m    634\u001b[0m         \u001b[38;5;28;01mexcept\u001b[39;00m \u001b[38;5;167;01mOSError\u001b[39;00m \u001b[38;5;28;01mas\u001b[39;00m err:\n\u001b[1;32m--> 635\u001b[0m             onexc(os\u001b[38;5;241m.\u001b[39munlink, fullname, err)\n\u001b[0;32m    636\u001b[0m \u001b[38;5;28;01mtry\u001b[39;00m:\n\u001b[0;32m    637\u001b[0m     os\u001b[38;5;241m.\u001b[39mrmdir(path)\n",
      "File \u001b[1;32mC:\\ProgramData\\anaconda3\\Lib\\shutil.py:633\u001b[0m, in \u001b[0;36m_rmtree_unsafe\u001b[1;34m(path, onexc)\u001b[0m\n\u001b[0;32m    631\u001b[0m fullname \u001b[38;5;241m=\u001b[39m os\u001b[38;5;241m.\u001b[39mpath\u001b[38;5;241m.\u001b[39mjoin(dirpath, name)\n\u001b[0;32m    632\u001b[0m \u001b[38;5;28;01mtry\u001b[39;00m:\n\u001b[1;32m--> 633\u001b[0m     os\u001b[38;5;241m.\u001b[39munlink(fullname)\n\u001b[0;32m    634\u001b[0m \u001b[38;5;28;01mexcept\u001b[39;00m \u001b[38;5;167;01mOSError\u001b[39;00m \u001b[38;5;28;01mas\u001b[39;00m err:\n\u001b[0;32m    635\u001b[0m     onexc(os\u001b[38;5;241m.\u001b[39munlink, fullname, err)\n",
      "\u001b[1;31mPermissionError\u001b[0m: [WinError 32] 다른 프로세스가 파일을 사용 중이기 때문에 프로세스가 액세스 할 수 없습니다: 'C:\\\\logs\\\\INNORIX\\\\f7c7ed1b-7f8e-42e6-ab39-4c04fb61bd1d\\\\2024-08-27_INNORIX_MFTTRANSFER.LOG'"
     ]
    }
   ],
   "source": [
    "# 짧은 경로 설정 (예: C:/logs)\n",
    "logging_dir = os.path.abspath('C:/logs')\n",
    "\n",
    "if os.path.exists(logging_dir):\n",
    "    shutil.rmtree(logging_dir)\n",
    "\n",
    "os.makedirs(logging_dir)"
   ]
  },
  {
   "cell_type": "code",
   "execution_count": null,
   "id": "68da1c95",
   "metadata": {},
   "outputs": [],
   "source": [
    "# Hyperparameter grid\n",
    "param_grid = {\n",
    "    'num_train_epochs': [2, 3],  # 에포크 수 (모델이 전체 데이터셋을 몇 번 반복해서 학습할지)\n",
    "    'per_device_train_batch_size': [16, 32],  # 학습 시 GPU 또는 CPU 한 개당 배치 크기 (훈련 배치 크기)\n",
    "    'per_device_eval_batch_size': [16, 32],  # 평가 시 GPU 또는 CPU 한 개당 배치 크기 (평가 배치 크기)\n",
    "    'warmup_steps': [0, 500],  # 워밍업 스텝 수 (학습 초기에 학습률을 천천히 증가시키기 위한 스텝 수)\n",
    "    'weight_decay': [0.01, 0.001],  # 가중치 감쇠 비율 (AdamW 옵티마이저의 정규화 비율)\n",
    "}\n",
    "\n",
    "# 모든 조합 생성\n",
    "param_combinations = list(itertools.product(*(param_grid[param] for param in param_grid)))\n",
    "# itertools.product를 사용해 모든 파라미터 조합을 생성하여 리스트로 저장\n",
    "\n",
    "best_accuracy = 0  # 최상의 정확도를 기록하기 위한 변수 초기화\n",
    "best_params = None  # 최상의 파라미터 조합을 기록하기 위한 변수 초기화\n",
    "\n",
    "# 모델 평가 함수\n",
    "def compute_metrics(pred):\n",
    "    labels = pred.label_ids  # 실제 레이블\n",
    "    preds = np.argmax(pred.predictions, axis=1)  # 예측된 레이블 (가장 높은 확률을 가진 클래스로 선택)\n",
    "    acc = accuracy_score(labels, preds)  # 정확도 계산\n",
    "    return {'accuracy': acc}  # 정확도를 반환하는 딕셔너리\n",
    "\n",
    "# Grid Search\n",
    "for params in tqdm(param_combinations):\n",
    "    # 각 파라미터 설정\n",
    "    num_train_epochs, per_device_train_batch_size, per_device_eval_batch_size, warmup_steps, weight_decay = params\n",
    "    # 현재 파라미터 조합을 순차적으로 unpacking\n",
    "\n",
    "    # TrainingArguments 설정\n",
    "    training_args = TrainingArguments(\n",
    "        output_dir='./results',  # 학습 결과(모델 체크포인트 등)가 저장될 디렉토리\n",
    "        num_train_epochs=num_train_epochs,  # 현재 조합에서의 에포크 수\n",
    "        per_device_train_batch_size=per_device_train_batch_size,  # 현재 조합에서의 훈련 배치 크기\n",
    "        per_device_eval_batch_size=per_device_eval_batch_size,  # 현재 조합에서의 평가 배치 크기\n",
    "        warmup_steps=warmup_steps,  # 현재 조합에서의 워밍업 스텝 수\n",
    "        weight_decay=weight_decay,  # 현재 조합에서의 가중치 감쇠 비율\n",
    "        logging_dir='/logs',  # 로그 파일이 저장될 디렉토리 (TensorBoard 로그를 포함)\n",
    "        logging_steps=10,  # 로그를 기록할 스텝 간격 (몇 스텝마다 로그를 기록할지)\n",
    "        evaluation_strategy=\"epoch\",  # 평가 전략: 'epoch'으로 설정하면 각 에포크가 끝날 때마다 평가\n",
    "        save_safetensors=False  # 안전한 직렬화 비활성화\n",
    "    )\n",
    "\n",
    "    # ElectraForSequenceClassification 모델 로드\n",
    "    model = ElectraForSequenceClassification.from_pretrained(\"beomi/KcELECTRA-base-v2022\", num_labels=2)\n",
    "    # Pretrained KcELECTRA 모델을 불러오고, 2개의 클래스를 예측하도록 설정\n",
    "\n",
    "    # Trainer 설정\n",
    "    trainer = Trainer(\n",
    "        model=model,  # 학습할 모델 (KcELECTRA)\n",
    "        args=training_args,  # 앞에서 설정한 학습 파라미터들 (TrainingArguments)\n",
    "        train_dataset=train_dataset,  # 학습에 사용될 데이터셋\n",
    "        eval_dataset=test_dataset,  # 평가에 사용될 데이터셋\n",
    "        compute_metrics=compute_metrics  # 평가 시 사용할 커스텀 메트릭스 (여기서는 accuracy)\n",
    "    )\n",
    "\n",
    "    # 모델 학습\n",
    "    trainer.train()  # 주어진 파라미터 조합으로 모델 학습\n",
    "\n",
    "    # 모델 평가\n",
    "    eval_results = trainer.evaluate()  # 테스트 데이터셋을 사용해 모델 평가\n",
    "    accuracy = eval_results['eval_accuracy']  # 평가 결과에서 정확도를 추출\n",
    "    \n",
    "    # 현재 파라미터 조합과 그에 따른 정확도 출력\n",
    "    print(f\"Params: {params}, Accuracy: {accuracy}\")\n",
    "\n",
    "    # 최적의 파라미터와 정확도 저장\n",
    "    if accuracy > best_accuracy:  # 현재 정확도가 최상의 정확도보다 높으면\n",
    "        best_accuracy = accuracy  # 최상의 정확도를 업데이트\n",
    "        best_params = params  # 최상의 파라미터 조합을 업데이트\n",
    "\n",
    "\n",
    "# 최적의 파라미터 조합과 그에 따른 정확도 출력\n",
    "print(f\"Best Params: {best_params}, Best Accuracy: {best_accuracy}\")"
   ]
  },
  {
   "cell_type": "code",
   "execution_count": 102,
   "id": "20da905f-b93a-414a-b595-c07c63cf5e78",
   "metadata": {},
   "outputs": [
    {
     "name": "stderr",
     "output_type": "stream",
     "text": [
      "C:\\ProgramData\\anaconda3\\Lib\\site-packages\\transformers\\training_args.py:1525: FutureWarning: `evaluation_strategy` is deprecated and will be removed in version 4.46 of 🤗 Transformers. Use `eval_strategy` instead\n",
      "  warnings.warn(\n"
     ]
    }
   ],
   "source": [
    "# TrainingArguments 설정\n",
    "training_args = TrainingArguments(\n",
    "    output_dir='./results',              # 학습 결과(모델 체크포인트 등)가 저장될 디렉토리\n",
    "    num_train_epochs=1,                  # 학습할 에포크 수 (모델이 전체 데이터셋을 몇 번 반복해서 학습할지)\n",
    "    per_device_train_batch_size=16,      # 학습 시 GPU 또는 CPU 한 개당 배치 사이즈 (훈련 배치 크기)\n",
    "    per_device_eval_batch_size=16,       # 평가 시 GPU 또는 CPU 한 개당 배치 사이즈 (평가 배치 크기)\n",
    "    warmup_steps=500,                    # 학습 초기에 학습률을 천천히 증가시키기 위한 워밍업 스텝 수\n",
    "    weight_decay=0.01,                   # AdamW 옵티마이저의 가중치 감쇠(정규화) 비율\n",
    "    logging_dir='C:/logs',                # 로그 파일이 저장될 디렉토리 (TensorBoard 로그를 포함)\n",
    "    logging_steps=10,                    # 로그를 기록할 스텝 간격 (몇 스텝마다 로그를 기록할지)\n",
    "    evaluation_strategy=\"epoch\",         # 평가 전략: 'epoch'으로 설정하면 각 에포크가 끝날 때마다 평가\n",
    ")\n",
    "\n",
    "# Trainer 설정\n",
    "trainer = Trainer(\n",
    "    model=model,                         # 학습할 모델 (여기서는 KcELECTRA 모델)\n",
    "    args=training_args,                  # 앞에서 설정한 학습 파라미터들 (TrainingArguments)\n",
    "    train_dataset=train_dataset,         # 학습에 사용될 데이터셋\n",
    "    eval_dataset=eval_dataset,           # 평가에 사용될 데이터셋\n",
    "    compute_metrics=None                 # 평가 시 사용할 커스텀 메트릭스 (None이면 기본 메트릭 사용)\n",
    ")\n"
   ]
  },
  {
   "cell_type": "code",
   "execution_count": 104,
   "id": "366d5f80-2dc6-475c-a24a-4fa1296eebdc",
   "metadata": {},
   "outputs": [],
   "source": [
    "# Trainer가 모델을 저장할 때 safetensors 형식을 사용하지 않고, \n",
    "#  PyTorch의 .bin 파일 형식을 사용하도록 지정\n",
    "trainer.args.save_safetensors = False "
   ]
  },
  {
   "cell_type": "code",
   "execution_count": 106,
   "id": "6d9c17de-0948-4874-a25f-7cca565d2915",
   "metadata": {},
   "outputs": [
    {
     "data": {
      "text/html": [
       "\n",
       "    <div>\n",
       "      \n",
       "      <progress value='354' max='354' style='width:300px; height:20px; vertical-align: middle;'></progress>\n",
       "      [354/354 8:02:53, Epoch 1/1]\n",
       "    </div>\n",
       "    <table border=\"1\" class=\"dataframe\">\n",
       "  <thead>\n",
       " <tr style=\"text-align: left;\">\n",
       "      <th>Epoch</th>\n",
       "      <th>Training Loss</th>\n",
       "      <th>Validation Loss</th>\n",
       "    </tr>\n",
       "  </thead>\n",
       "  <tbody>\n",
       "    <tr>\n",
       "      <td>1</td>\n",
       "      <td>0.591100</td>\n",
       "      <td>0.509128</td>\n",
       "    </tr>\n",
       "  </tbody>\n",
       "</table><p>"
      ],
      "text/plain": [
       "<IPython.core.display.HTML object>"
      ]
     },
     "metadata": {},
     "output_type": "display_data"
    },
    {
     "data": {
      "text/plain": [
       "TrainOutput(global_step=354, training_loss=0.5697495472633233, metrics={'train_runtime': 29065.6603, 'train_samples_per_second': 0.195, 'train_steps_per_second': 0.012, 'total_flos': 1489208573337600.0, 'train_loss': 0.5697495472633233, 'epoch': 1.0})"
      ]
     },
     "execution_count": 106,
     "metadata": {},
     "output_type": "execute_result"
    }
   ],
   "source": [
    "trainer.train()"
   ]
  },
  {
   "cell_type": "markdown",
   "id": "e246e23e-391c-4511-a7a0-2c3757e05168",
   "metadata": {},
   "source": [
    "TrainOutput(global_step=354, training_loss=0.5697495472633233, metrics={'train_runtime': 29065.6603, 'train_samples_per_second': 0.195, 'train_steps_per_second': 0.012, 'total_flos': 1489208573337600.0, 'train_loss': 0.5697495472633233, 'epoch': 1.0})\n"
   ]
  },
  {
   "cell_type": "code",
   "execution_count": 111,
   "id": "829d1efb-50c5-4a23-b58a-8ce62f4bf047",
   "metadata": {},
   "outputs": [
    {
     "data": {
      "text/html": [],
      "text/plain": [
       "<IPython.core.display.HTML object>"
      ]
     },
     "metadata": {},
     "output_type": "display_data"
    }
   ],
   "source": [
    "# 모델 평가 (학습 데이터셋에 대해 평가)\n",
    "train_results = trainer.evaluate(train_dataset)\n",
    "\n",
    "# 모델 평가 (검증 데이터셋에 대해 평가)\n",
    "eval_results = trainer.evaluate(eval_dataset)"
   ]
  },
  {
   "cell_type": "code",
   "execution_count": 112,
   "id": "eca378dc-7700-4cd6-881d-444fe27c99bc",
   "metadata": {},
   "outputs": [],
   "source": [
    "# 검증 데이터에 대한 예측 수행\n",
    "y_pred = trainer.predict(eval_dataset).predictions.argmax(-1)"
   ]
  },
  {
   "cell_type": "code",
   "execution_count": 113,
   "id": "bb018612-836e-4221-9315-334b885096ac",
   "metadata": {},
   "outputs": [
    {
     "name": "stdout",
     "output_type": "stream",
     "text": [
      "Accuracy: 0.634180790960452\n",
      "Confusion Matrix:\n",
      " [[277 201]\n",
      " [317 621]]\n",
      "Classification Report:\n",
      "               precision    recall  f1-score   support\n",
      "\n",
      "           0       0.47      0.58      0.52       478\n",
      "           1       0.76      0.66      0.71       938\n",
      "\n",
      "    accuracy                           0.63      1416\n",
      "   macro avg       0.61      0.62      0.61      1416\n",
      "weighted avg       0.66      0.63      0.64      1416\n",
      "\n"
     ]
    }
   ],
   "source": [
    "# 평가 결과 출력\n",
    "print(\"Accuracy:\", accuracy_score(eval_labels, y_pred))\n",
    "print(\"Confusion Matrix:\\n\", confusion_matrix(eval_labels, y_pred))\n",
    "print(\"Classification Report:\\n\", classification_report(eval_labels, y_pred))"
   ]
  },
  {
   "cell_type": "code",
   "execution_count": 114,
   "id": "0456c8a7-01d4-43e5-9948-136b6ceef838",
   "metadata": {},
   "outputs": [
    {
     "data": {
      "image/png": "[encoded data removed]",
      "text/plain": [
       "<Figure size 1000x800 with 1 Axes>"
      ]
     },
     "metadata": {},
     "output_type": "display_data"
    }
   ],
   "source": [
    "# 혼동행렬 계산\n",
    "conf_matrix = confusion_matrix(eval_labels, y_pred)\n",
    "\n",
    "# 혼동행렬 시각화\n",
    "plt.figure(figsize=(10, 8))\n",
    "sns.heatmap(conf_matrix, annot=True, fmt='d', cmap='Blues', cbar=False)\n",
    "plt.title('Confusion Matrix')\n",
    "plt.xlabel('Predicted Labels')\n",
    "plt.ylabel('True Labels')\n",
    "plt.show()"
   ]
  },
  {
   "cell_type": "code",
   "execution_count": null,
   "id": "42624a55-5290-404f-a113-f70cefb2f10a",
   "metadata": {},
   "outputs": [],
   "source": [
    "# 과대적합/과소적합 판별\n",
    "train_accuracy = train_results['eval_accuracy']     # 훈련 데이터에 대한 정확도 저장\n",
    "val_accuracy = eval_results['eval_accuracy']        # 검증 데이터에 대한 정확도 저장\n",
    "\n",
    "# 훈련 정확도가 검증 정확도보다 높고, 두 정확도 간의 차이가 5% 이상일 때 과대적합 가능성 판단\n",
    "if train_accuracy > val_accuracy and (train_accuracy - val_accuracy) > 0.05:\n",
    "    print(\"The model may be overfitting.\")          # 모델이 과대적합일 가능성이 있음\n",
    "\n",
    "# 검증 정확도가 훈련 정확도보다 높을 때 과소적합 가능성 판단\n",
    "elif train_accuracy < val_accuracy:\n",
    "    print(\"The model may be underfitting.\")         # 모델이 과소적합일 가능성이 있음\n",
    "\n",
    "# 두 정확도 간의 차이가 크지 않을 때 모델이 적절하게 학습되었음을 의미\n",
    "else:\n",
    "    print(\"The model seems to have a good fit.\")    # 모델이 잘 맞는 것 같음\n"
   ]
  },
  {
   "cell_type": "code",
   "execution_count": 129,
   "id": "9a4e69d5-9798-48a9-b5e3-60be8bbe3f6f",
   "metadata": {},
   "outputs": [],
   "source": [
    "# 라벨 인덱스와 실제 라벨명을 매핑한 딕셔너리\n",
    "label_map = {0: '악재', 1: '호재'}\n",
    "\n",
    "# 텍스트를 입력 받아 예측하는 함수 정의\n",
    "def predict_text(text, model, tokenizer, max_len):\n",
    "    encoding = tokenizer.encode_plus(\n",
    "        text,\n",
    "        add_special_tokens   =True,\n",
    "        max_length           =max_len,\n",
    "        return_token_type_ids=False,\n",
    "        padding              ='max_length',\n",
    "        truncation           =True,\n",
    "        return_attention_mask=True,\n",
    "        return_tensors       ='pt',\n",
    "    )\n",
    "    input_ids      = encoding['input_ids']\n",
    "    attention_mask = encoding['attention_mask']\n",
    "    \n",
    "    with torch.no_grad():\n",
    "        outputs    = model(input_ids, attention_mask=attention_mask)\n",
    "    \n",
    "    logits     = outputs.logits\n",
    "    prediction = torch.argmax(logits, dim=-1)\n",
    "    \n",
    "    return prediction.item()"
   ]
  },
  {
   "cell_type": "code",
   "execution_count": 131,
   "id": "0607897a-14d2-49ff-a34a-fb2f919a0886",
   "metadata": {},
   "outputs": [
    {
     "name": "stdout",
     "output_type": "stream",
     "text": [
      "Predicted Label: 호재\n"
     ]
    }
   ],
   "source": [
    "# 테스트할 텍스트 입력\n",
    "text_to_predict = '''파월 의장은 지난 24일 잭슨 홀 컨퍼런스에 참석해 연방준비제도이사회가 정책을 전환할 때라고 밝히면서 시장은 향후 금리 인하 체제에 대한 더 많은 신호가 나올 것으로 기대하면서 가상화폐 시장도 즉각적으로 반응했다.\n",
    "\n",
    "현재 미국 중앙은행의 대규모 당일 콜 자금시장 대출 금리는 5.25%~5.5% 범위에 있다. 이와 관련 파월은 잭슨 홀 연설에서 금리 인하 방침을 명백히 밝히면서 \"금리를 인하할 것이냐가 아니라 폭을 어느 정도로 할 것이냐의 문제\"라고 말했다.\n",
    "\n",
    "그는 \"정책을 조정할 때가 왔다. 이동 방향은 명확하지만, 금리 인하의 시기와 속도는 나오는 데이터와 변화하는 전망, 그리고 위험의 균형에 따라 달라질 것\"이라고 강조했다.\n",
    "\n",
    "낮은 금리와 늘어나는 달러(유동성) 공급은 공급이 제한된 블록체인 가상화폐 가격을 끌어올릴 가능성이 매우 크다. 일부 디지털 자산은 엄격한 공급 한도로 인해 저금리 달러 환경에서는 귀중한 투자상품이 될 수 있다.'''\n",
    "\n",
    "# 예측\n",
    "predicted_label_index = predict_text(text_to_predict, model, tokenizer, 512)\n",
    "\n",
    "# 예측 결과 출력\n",
    "predicted_label = label_map[predicted_label_index]\n",
    "print(f\"Predicted Label: {predicted_label}\")"
   ]
  },
  {
   "cell_type": "code",
   "execution_count": 133,
   "id": "bc8b0454-387d-4365-89c8-e974c6903d7c",
   "metadata": {},
   "outputs": [
    {
     "name": "stdout",
     "output_type": "stream",
     "text": [
      "Model weights have been saved as News_Bitcoin_KcELECTRA_model.h5\n"
     ]
    }
   ],
   "source": [
    "import torch\n",
    "import h5py\n",
    "\n",
    "# 모델의 가중치 저장\n",
    "model_weights = model.state_dict()\n",
    "\n",
    "# h5 파일로 저장\n",
    "with h5py.File('News_Bitcoin_KcELECTRA_model.h5', 'w') as h5_file:\n",
    "    for key, value in model_weights.items():\n",
    "        h5_file.create_dataset(key, data=value.cpu().numpy())\n",
    "\n",
    "print(\"Model weights have been saved as News_Bitcoin_KcELECTRA_model.h5\")\n"
   ]
  },
  {
   "cell_type": "code",
   "execution_count": null,
   "id": "a2e85154-a71d-4a47-af87-fe1184aa66dd",
   "metadata": {},
   "outputs": [],
   "source": []
  }
 ],
 "metadata": {
  "kernelspec": {
   "display_name": "Python 3 (ipykernel)",
   "language": "python",
   "name": "python3"
  },
  "language_info": {
   "codemirror_mode": {
    "name": "ipython",
    "version": 3
   },
   "file_extension": ".py",
   "mimetype": "text/x-python",
   "name": "python",
   "nbconvert_exporter": "python",
   "pygments_lexer": "ipython3",
   "version": "3.12.4"
  }
 },
 "nbformat": 4,
 "nbformat_minor": 5
}
