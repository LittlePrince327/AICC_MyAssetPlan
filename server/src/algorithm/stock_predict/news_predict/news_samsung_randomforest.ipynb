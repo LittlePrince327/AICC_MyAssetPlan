{
 "cells": [
  {
   "cell_type": "code",
   "execution_count": 83,
   "metadata": {},
   "outputs": [],
   "source": [
    "import re\n",
    "import numpy as np\n",
    "import pandas as pd\n",
    "from tqdm import tqdm\n",
    "import seaborn as sns\n",
    "import matplotlib.pyplot as plt\n",
    "\n",
    "from konlpy.tag import Kkma\n",
    "from pykospacing import Spacing\n",
    "from gensim.models import Word2Vec\n",
    "\n",
    "from sklearn.utils import resample\n",
    "from sklearn.ensemble import RandomForestClassifier\n",
    "from sklearn.model_selection import train_test_split\n",
    "from sklearn.metrics import classification_report, accuracy_score, confusion_matrix"
   ]
  },
  {
   "cell_type": "code",
   "execution_count": 158,
   "metadata": {},
   "outputs": [
    {
     "name": "stdout",
     "output_type": "stream",
     "text": [
      "호재    3794\n",
      "악재    3781\n",
      "Name: Outcome, dtype: int64\n"
     ]
    }
   ],
   "source": [
    "df = pd.read_excel(r'..\\..\\..\\data\\bitcoin_news1.xlsx')\n",
    "df = df[['cleaned', 'Outcome']]\n",
    "# 클래스별로 데이터 분리\n",
    "df_positive = df[df['Outcome'] == '호재']\n",
    "df_negative = df[df['Outcome'] == '악재']\n",
    "\n",
    "# 최소 클래스의 샘플 수 확인\n",
    "min_class_count = min(len(df_positive), len(df_negative))\n",
    "\n",
    "# 다운샘플링 적용\n",
    "df_positive_downsampled = resample(df_positive, \n",
    "                                   replace=True,                                # 샘플을 복원하지 않고\n",
    "                                   n_samples=int(min_class_count*1.505),         # 최소 클래스의 개수로 맞추기\n",
    "                                   random_state=42)                             # 재현성을 위해 random_state 사용\n",
    "\n",
    "df_negative_downsampled = resample(df_negative, \n",
    "                                   replace=True, \n",
    "                                   n_samples=int(min_class_count*1.5), \n",
    "                                   random_state=42)\n",
    "\n",
    "df_balanced = pd.concat([df_positive_downsampled, df_negative_downsampled])     # 다운샘플링된 데이터 결합\n",
    "df = df_balanced.sample(frac=1, random_state=42).reset_index(drop=True)         # 데이터 셔플\n",
    "print(df_balanced['Outcome'].value_counts())                                    # 결과 확인"
   ]
  },
  {
   "cell_type": "code",
   "execution_count": 159,
   "metadata": {},
   "outputs": [],
   "source": [
    "model = Word2Vec(df['cleaned'], vector_size=100, window=5, min_count=1, workers=4, sg=1)\n",
    "\n",
    "# 각 단어의 벡터를 데이터프레임에 추가하는 함수\n",
    "def text_to_vector(text, model):\n",
    "    words = text.split()\n",
    "    word_vectors = [model.wv[word] for word in words if word in model.wv]\n",
    "    return np.mean(word_vectors, axis=0) if word_vectors else np.zeros(model.vector_size)\n",
    "\n",
    "\n",
    "# 데이터프레임에 feature_vector 열 추가\n",
    "df['vector'] = df['cleaned'].apply(lambda x: text_to_vector(x, model))"
   ]
  },
  {
   "cell_type": "code",
   "execution_count": 160,
   "metadata": {},
   "outputs": [],
   "source": [
    "# Word2Vec 모델 학습 (이미 학습된 모델이 있다면 이를 로드하여 사용 가능)\n",
    "sentences = [sentence.split() for sentence in df['cleaned']]  # 문장을 단어로 분리하여 리스트로 만듦\n",
    "word2vec_model = Word2Vec(sentences, vector_size=100, window=5, min_count=1, workers=4)"
   ]
  },
  {
   "cell_type": "code",
   "execution_count": 161,
   "metadata": {},
   "outputs": [
    {
     "data": {
      "text/html": [
       "<style>#sk-container-id-18 {color: black;}#sk-container-id-18 pre{padding: 0;}#sk-container-id-18 div.sk-toggleable {background-color: white;}#sk-container-id-18 label.sk-toggleable__label {cursor: pointer;display: block;width: 100%;margin-bottom: 0;padding: 0.3em;box-sizing: border-box;text-align: center;}#sk-container-id-18 label.sk-toggleable__label-arrow:before {content: \"▸\";float: left;margin-right: 0.25em;color: #696969;}#sk-container-id-18 label.sk-toggleable__label-arrow:hover:before {color: black;}#sk-container-id-18 div.sk-estimator:hover label.sk-toggleable__label-arrow:before {color: black;}#sk-container-id-18 div.sk-toggleable__content {max-height: 0;max-width: 0;overflow: hidden;text-align: left;background-color: #f0f8ff;}#sk-container-id-18 div.sk-toggleable__content pre {margin: 0.2em;color: black;border-radius: 0.25em;background-color: #f0f8ff;}#sk-container-id-18 input.sk-toggleable__control:checked~div.sk-toggleable__content {max-height: 200px;max-width: 100%;overflow: auto;}#sk-container-id-18 input.sk-toggleable__control:checked~label.sk-toggleable__label-arrow:before {content: \"▾\";}#sk-container-id-18 div.sk-estimator input.sk-toggleable__control:checked~label.sk-toggleable__label {background-color: #d4ebff;}#sk-container-id-18 div.sk-label input.sk-toggleable__control:checked~label.sk-toggleable__label {background-color: #d4ebff;}#sk-container-id-18 input.sk-hidden--visually {border: 0;clip: rect(1px 1px 1px 1px);clip: rect(1px, 1px, 1px, 1px);height: 1px;margin: -1px;overflow: hidden;padding: 0;position: absolute;width: 1px;}#sk-container-id-18 div.sk-estimator {font-family: monospace;background-color: #f0f8ff;border: 1px dotted black;border-radius: 0.25em;box-sizing: border-box;margin-bottom: 0.5em;}#sk-container-id-18 div.sk-estimator:hover {background-color: #d4ebff;}#sk-container-id-18 div.sk-parallel-item::after {content: \"\";width: 100%;border-bottom: 1px solid gray;flex-grow: 1;}#sk-container-id-18 div.sk-label:hover label.sk-toggleable__label {background-color: #d4ebff;}#sk-container-id-18 div.sk-serial::before {content: \"\";position: absolute;border-left: 1px solid gray;box-sizing: border-box;top: 0;bottom: 0;left: 50%;z-index: 0;}#sk-container-id-18 div.sk-serial {display: flex;flex-direction: column;align-items: center;background-color: white;padding-right: 0.2em;padding-left: 0.2em;position: relative;}#sk-container-id-18 div.sk-item {position: relative;z-index: 1;}#sk-container-id-18 div.sk-parallel {display: flex;align-items: stretch;justify-content: center;background-color: white;position: relative;}#sk-container-id-18 div.sk-item::before, #sk-container-id-18 div.sk-parallel-item::before {content: \"\";position: absolute;border-left: 1px solid gray;box-sizing: border-box;top: 0;bottom: 0;left: 50%;z-index: -1;}#sk-container-id-18 div.sk-parallel-item {display: flex;flex-direction: column;z-index: 1;position: relative;background-color: white;}#sk-container-id-18 div.sk-parallel-item:first-child::after {align-self: flex-end;width: 50%;}#sk-container-id-18 div.sk-parallel-item:last-child::after {align-self: flex-start;width: 50%;}#sk-container-id-18 div.sk-parallel-item:only-child::after {width: 0;}#sk-container-id-18 div.sk-dashed-wrapped {border: 1px dashed gray;margin: 0 0.4em 0.5em 0.4em;box-sizing: border-box;padding-bottom: 0.4em;background-color: white;}#sk-container-id-18 div.sk-label label {font-family: monospace;font-weight: bold;display: inline-block;line-height: 1.2em;}#sk-container-id-18 div.sk-label-container {text-align: center;}#sk-container-id-18 div.sk-container {/* jupyter's `normalize.less` sets `[hidden] { display: none; }` but bootstrap.min.css set `[hidden] { display: none !important; }` so we also need the `!important` here to be able to override the default hidden behavior on the sphinx rendered scikit-learn.org. See: https://github.com/scikit-learn/scikit-learn/issues/21755 */display: inline-block !important;position: relative;}#sk-container-id-18 div.sk-text-repr-fallback {display: none;}</style><div id=\"sk-container-id-18\" class=\"sk-top-container\"><div class=\"sk-text-repr-fallback\"><pre>RandomForestClassifier(random_state=42)</pre><b>In a Jupyter environment, please rerun this cell to show the HTML representation or trust the notebook. <br />On GitHub, the HTML representation is unable to render, please try loading this page with nbviewer.org.</b></div><div class=\"sk-container\" hidden><div class=\"sk-item\"><div class=\"sk-estimator sk-toggleable\"><input class=\"sk-toggleable__control sk-hidden--visually\" id=\"sk-estimator-id-18\" type=\"checkbox\" checked><label for=\"sk-estimator-id-18\" class=\"sk-toggleable__label sk-toggleable__label-arrow\">RandomForestClassifier</label><div class=\"sk-toggleable__content\"><pre>RandomForestClassifier(random_state=42)</pre></div></div></div></div></div>"
      ],
      "text/plain": [
       "RandomForestClassifier(random_state=42)"
      ]
     },
     "execution_count": 161,
     "metadata": {},
     "output_type": "execute_result"
    }
   ],
   "source": [
    "X = np.array(df['vector'].tolist())\n",
    "y = df['Outcome']\n",
    "\n",
    "X_train, X_test, y_train, y_test = train_test_split(X, y, test_size=0.2, random_state=42)\n",
    "\n",
    "# 랜덤 포레스트 모델 초기화 및 학습\n",
    "model = RandomForestClassifier(n_estimators=100, random_state=42)\n",
    "model.fit(X_train, y_train)"
   ]
  },
  {
   "cell_type": "code",
   "execution_count": 162,
   "metadata": {},
   "outputs": [
    {
     "name": "stdout",
     "output_type": "stream",
     "text": [
      "Accuracy: 0.49438943894389437\n"
     ]
    },
    {
     "name": "stderr",
     "output_type": "stream",
     "text": [
      "c:\\Anaconda3\\envs\\myenv\\Lib\\site-packages\\sklearn\\metrics\\_classification.py:1469: UndefinedMetricWarning: Precision and F-score are ill-defined and being set to 0.0 in labels with no predicted samples. Use `zero_division` parameter to control this behavior.\n",
      "  _warn_prf(average, modifier, msg_start, len(result))\n",
      "c:\\Anaconda3\\envs\\myenv\\Lib\\site-packages\\sklearn\\metrics\\_classification.py:1469: UndefinedMetricWarning: Precision and F-score are ill-defined and being set to 0.0 in labels with no predicted samples. Use `zero_division` parameter to control this behavior.\n",
      "  _warn_prf(average, modifier, msg_start, len(result))\n",
      "c:\\Anaconda3\\envs\\myenv\\Lib\\site-packages\\sklearn\\metrics\\_classification.py:1469: UndefinedMetricWarning: Precision and F-score are ill-defined and being set to 0.0 in labels with no predicted samples. Use `zero_division` parameter to control this behavior.\n",
      "  _warn_prf(average, modifier, msg_start, len(result))\n"
     ]
    },
    {
     "data": {
      "text/html": [
       "<style type=\"text/css\">\n",
       "#T_36f42_row0_col0, #T_36f42_row0_col1, #T_36f42_row0_col2, #T_36f42_row2_col3 {\n",
       "  background-color: #f7fbff;\n",
       "  color: #000000;\n",
       "}\n",
       "#T_36f42_row0_col3 {\n",
       "  background-color: #69add5;\n",
       "  color: #f1f1f1;\n",
       "}\n",
       "#T_36f42_row1_col0, #T_36f42_row1_col1, #T_36f42_row1_col2, #T_36f42_row2_col0, #T_36f42_row3_col3, #T_36f42_row4_col3 {\n",
       "  background-color: #08306b;\n",
       "  color: #f1f1f1;\n",
       "}\n",
       "#T_36f42_row1_col3, #T_36f42_row2_col1, #T_36f42_row4_col0, #T_36f42_row4_col1, #T_36f42_row4_col2 {\n",
       "  background-color: #6dafd7;\n",
       "  color: #f1f1f1;\n",
       "}\n",
       "#T_36f42_row2_col2 {\n",
       "  background-color: #2171b5;\n",
       "  color: #f1f1f1;\n",
       "}\n",
       "#T_36f42_row3_col0, #T_36f42_row3_col1, #T_36f42_row3_col2 {\n",
       "  background-color: #6aaed6;\n",
       "  color: #f1f1f1;\n",
       "}\n",
       "</style>\n",
       "<table id=\"T_36f42\">\n",
       "  <thead>\n",
       "    <tr>\n",
       "      <th class=\"blank level0\" >&nbsp;</th>\n",
       "      <th id=\"T_36f42_level0_col0\" class=\"col_heading level0 col0\" >precision</th>\n",
       "      <th id=\"T_36f42_level0_col1\" class=\"col_heading level0 col1\" >recall</th>\n",
       "      <th id=\"T_36f42_level0_col2\" class=\"col_heading level0 col2\" >f1-score</th>\n",
       "      <th id=\"T_36f42_level0_col3\" class=\"col_heading level0 col3\" >support</th>\n",
       "    </tr>\n",
       "  </thead>\n",
       "  <tbody>\n",
       "    <tr>\n",
       "      <th id=\"T_36f42_level0_row0\" class=\"row_heading level0 row0\" >악재</th>\n",
       "      <td id=\"T_36f42_row0_col0\" class=\"data row0 col0\" >0.00</td>\n",
       "      <td id=\"T_36f42_row0_col1\" class=\"data row0 col1\" >0.00</td>\n",
       "      <td id=\"T_36f42_row0_col2\" class=\"data row0 col2\" >0.00</td>\n",
       "      <td id=\"T_36f42_row0_col3\" class=\"data row0 col3\" >766.00</td>\n",
       "    </tr>\n",
       "    <tr>\n",
       "      <th id=\"T_36f42_level0_row1\" class=\"row_heading level0 row1\" >호재</th>\n",
       "      <td id=\"T_36f42_row1_col0\" class=\"data row1 col0\" >0.49</td>\n",
       "      <td id=\"T_36f42_row1_col1\" class=\"data row1 col1\" >1.00</td>\n",
       "      <td id=\"T_36f42_row1_col2\" class=\"data row1 col2\" >0.66</td>\n",
       "      <td id=\"T_36f42_row1_col3\" class=\"data row1 col3\" >749.00</td>\n",
       "    </tr>\n",
       "    <tr>\n",
       "      <th id=\"T_36f42_level0_row2\" class=\"row_heading level0 row2\" >accuracy</th>\n",
       "      <td id=\"T_36f42_row2_col0\" class=\"data row2 col0\" >0.49</td>\n",
       "      <td id=\"T_36f42_row2_col1\" class=\"data row2 col1\" >0.49</td>\n",
       "      <td id=\"T_36f42_row2_col2\" class=\"data row2 col2\" >0.49</td>\n",
       "      <td id=\"T_36f42_row2_col3\" class=\"data row2 col3\" >0.49</td>\n",
       "    </tr>\n",
       "    <tr>\n",
       "      <th id=\"T_36f42_level0_row3\" class=\"row_heading level0 row3\" >macro avg</th>\n",
       "      <td id=\"T_36f42_row3_col0\" class=\"data row3 col0\" >0.25</td>\n",
       "      <td id=\"T_36f42_row3_col1\" class=\"data row3 col1\" >0.50</td>\n",
       "      <td id=\"T_36f42_row3_col2\" class=\"data row3 col2\" >0.33</td>\n",
       "      <td id=\"T_36f42_row3_col3\" class=\"data row3 col3\" >1515.00</td>\n",
       "    </tr>\n",
       "    <tr>\n",
       "      <th id=\"T_36f42_level0_row4\" class=\"row_heading level0 row4\" >weighted avg</th>\n",
       "      <td id=\"T_36f42_row4_col0\" class=\"data row4 col0\" >0.24</td>\n",
       "      <td id=\"T_36f42_row4_col1\" class=\"data row4 col1\" >0.49</td>\n",
       "      <td id=\"T_36f42_row4_col2\" class=\"data row4 col2\" >0.33</td>\n",
       "      <td id=\"T_36f42_row4_col3\" class=\"data row4 col3\" >1515.00</td>\n",
       "    </tr>\n",
       "  </tbody>\n",
       "</table>\n"
      ],
      "text/plain": [
       "<pandas.io.formats.style.Styler at 0x1dbae848610>"
      ]
     },
     "execution_count": 162,
     "metadata": {},
     "output_type": "execute_result"
    }
   ],
   "source": [
    "# 테스트 데이터에 대한 예측\n",
    "y_pred = model.predict(X_test)\n",
    "\n",
    "# 성능 평가\n",
    "print(\"Accuracy:\", accuracy_score(y_test, y_pred))\n",
    "report_dict = classification_report(y_test, y_pred, output_dict=True)\n",
    "report_df = pd.DataFrame(report_dict).transpose()\n",
    "report_df.style.format(\"{:.2f}\").background_gradient(cmap='Blues')"
   ]
  },
  {
   "cell_type": "code",
   "execution_count": 163,
   "metadata": {},
   "outputs": [
    {
     "name": "stderr",
     "output_type": "stream",
     "text": [
      "100%|██████████| 2/2 [00:02<00:00,  1.09s/it]"
     ]
    },
    {
     "name": "stdout",
     "output_type": "stream",
     "text": [
      "Best Score: 0.49438943894389437\n",
      "Best Parameters: {'n_estimators': 50, 'max_depth': 5, 'min_samples_split': 10, 'min_samples_leaf': 5}\n"
     ]
    },
    {
     "name": "stderr",
     "output_type": "stream",
     "text": [
      "\n"
     ]
    }
   ],
   "source": [
    "# 하이퍼파라미터 그리드 설정\n",
    "n_estimators_list = [50, 100]  # 기본 트리 개수 감소\n",
    "max_depth_list = [5]  # 최대 깊이 제한\n",
    "min_samples_split_list = [10, 20]  # 분할할 샘플 수 증가\n",
    "min_samples_leaf_list = [5, 10]  # 리프 노드의 최소 샘플 수 증가\n",
    "best_score = 0\n",
    "best_params = {}\n",
    "\n",
    "# 하이퍼파라미터를 조합하여 모델을 학습\n",
    "for n_estimators in tqdm(n_estimators_list):\n",
    "    for max_depth in tqdm(max_depth_list, leave=False):\n",
    "        for min_samples_split in min_samples_split_list:\n",
    "            for min_samples_leaf in min_samples_leaf_list:\n",
    "                # 모델 초기화 및 학습\n",
    "                model = RandomForestClassifier(\n",
    "                    n_estimators=n_estimators,\n",
    "                    max_depth=max_depth,\n",
    "                    min_samples_split=min_samples_split,\n",
    "                    min_samples_leaf=min_samples_leaf,\n",
    "                    random_state=42\n",
    "                )\n",
    "                model.fit(X_train, y_train)\n",
    "                \n",
    "                # 검증 데이터로 성능 평가\n",
    "                y_pred = model.predict(X_test)\n",
    "                score = accuracy_score(y_test, y_pred)\n",
    "                \n",
    "                # 최적의 모델 저장\n",
    "                if score > best_score:\n",
    "                    best_score = score\n",
    "                    best_params = {\n",
    "                        'n_estimators': n_estimators,\n",
    "                        'max_depth': max_depth,\n",
    "                        'min_samples_split': min_samples_split,\n",
    "                        'min_samples_leaf': min_samples_leaf\n",
    "                    }\n",
    "\n",
    "# 최적의 파라미터 출력\n",
    "print(f\"Best Score: {best_score}\")\n",
    "print(f\"Best Parameters: {best_params}\")\n"
   ]
  },
  {
   "cell_type": "code",
   "execution_count": 164,
   "metadata": {},
   "outputs": [
    {
     "name": "stdout",
     "output_type": "stream",
     "text": [
      "Best Score: 0.49438943894389437\n",
      "Best Parameters: {'n_estimators': 50, 'max_depth': 5, 'min_samples_split': 10, 'min_samples_leaf': 5}\n",
      "Final Accuracy: 0.49438943894389437\n"
     ]
    },
    {
     "name": "stderr",
     "output_type": "stream",
     "text": [
      "c:\\Anaconda3\\envs\\myenv\\Lib\\site-packages\\sklearn\\metrics\\_classification.py:1469: UndefinedMetricWarning: Precision and F-score are ill-defined and being set to 0.0 in labels with no predicted samples. Use `zero_division` parameter to control this behavior.\n",
      "  _warn_prf(average, modifier, msg_start, len(result))\n",
      "c:\\Anaconda3\\envs\\myenv\\Lib\\site-packages\\sklearn\\metrics\\_classification.py:1469: UndefinedMetricWarning: Precision and F-score are ill-defined and being set to 0.0 in labels with no predicted samples. Use `zero_division` parameter to control this behavior.\n",
      "  _warn_prf(average, modifier, msg_start, len(result))\n",
      "c:\\Anaconda3\\envs\\myenv\\Lib\\site-packages\\sklearn\\metrics\\_classification.py:1469: UndefinedMetricWarning: Precision and F-score are ill-defined and being set to 0.0 in labels with no predicted samples. Use `zero_division` parameter to control this behavior.\n",
      "  _warn_prf(average, modifier, msg_start, len(result))\n"
     ]
    },
    {
     "data": {
      "text/html": [
       "<style type=\"text/css\">\n",
       "#T_03a27_row0_col0, #T_03a27_row0_col1, #T_03a27_row0_col2, #T_03a27_row2_col3 {\n",
       "  background-color: #f7fbff;\n",
       "  color: #000000;\n",
       "}\n",
       "#T_03a27_row0_col3 {\n",
       "  background-color: #69add5;\n",
       "  color: #f1f1f1;\n",
       "}\n",
       "#T_03a27_row1_col0, #T_03a27_row1_col1, #T_03a27_row1_col2, #T_03a27_row2_col0, #T_03a27_row3_col3, #T_03a27_row4_col3 {\n",
       "  background-color: #08306b;\n",
       "  color: #f1f1f1;\n",
       "}\n",
       "#T_03a27_row1_col3, #T_03a27_row2_col1, #T_03a27_row4_col0, #T_03a27_row4_col1, #T_03a27_row4_col2 {\n",
       "  background-color: #6dafd7;\n",
       "  color: #f1f1f1;\n",
       "}\n",
       "#T_03a27_row2_col2 {\n",
       "  background-color: #2171b5;\n",
       "  color: #f1f1f1;\n",
       "}\n",
       "#T_03a27_row3_col0, #T_03a27_row3_col1, #T_03a27_row3_col2 {\n",
       "  background-color: #6aaed6;\n",
       "  color: #f1f1f1;\n",
       "}\n",
       "</style>\n",
       "<table id=\"T_03a27\">\n",
       "  <thead>\n",
       "    <tr>\n",
       "      <th class=\"blank level0\" >&nbsp;</th>\n",
       "      <th id=\"T_03a27_level0_col0\" class=\"col_heading level0 col0\" >precision</th>\n",
       "      <th id=\"T_03a27_level0_col1\" class=\"col_heading level0 col1\" >recall</th>\n",
       "      <th id=\"T_03a27_level0_col2\" class=\"col_heading level0 col2\" >f1-score</th>\n",
       "      <th id=\"T_03a27_level0_col3\" class=\"col_heading level0 col3\" >support</th>\n",
       "    </tr>\n",
       "  </thead>\n",
       "  <tbody>\n",
       "    <tr>\n",
       "      <th id=\"T_03a27_level0_row0\" class=\"row_heading level0 row0\" >악재</th>\n",
       "      <td id=\"T_03a27_row0_col0\" class=\"data row0 col0\" >0.00</td>\n",
       "      <td id=\"T_03a27_row0_col1\" class=\"data row0 col1\" >0.00</td>\n",
       "      <td id=\"T_03a27_row0_col2\" class=\"data row0 col2\" >0.00</td>\n",
       "      <td id=\"T_03a27_row0_col3\" class=\"data row0 col3\" >766.00</td>\n",
       "    </tr>\n",
       "    <tr>\n",
       "      <th id=\"T_03a27_level0_row1\" class=\"row_heading level0 row1\" >호재</th>\n",
       "      <td id=\"T_03a27_row1_col0\" class=\"data row1 col0\" >0.49</td>\n",
       "      <td id=\"T_03a27_row1_col1\" class=\"data row1 col1\" >1.00</td>\n",
       "      <td id=\"T_03a27_row1_col2\" class=\"data row1 col2\" >0.66</td>\n",
       "      <td id=\"T_03a27_row1_col3\" class=\"data row1 col3\" >749.00</td>\n",
       "    </tr>\n",
       "    <tr>\n",
       "      <th id=\"T_03a27_level0_row2\" class=\"row_heading level0 row2\" >accuracy</th>\n",
       "      <td id=\"T_03a27_row2_col0\" class=\"data row2 col0\" >0.49</td>\n",
       "      <td id=\"T_03a27_row2_col1\" class=\"data row2 col1\" >0.49</td>\n",
       "      <td id=\"T_03a27_row2_col2\" class=\"data row2 col2\" >0.49</td>\n",
       "      <td id=\"T_03a27_row2_col3\" class=\"data row2 col3\" >0.49</td>\n",
       "    </tr>\n",
       "    <tr>\n",
       "      <th id=\"T_03a27_level0_row3\" class=\"row_heading level0 row3\" >macro avg</th>\n",
       "      <td id=\"T_03a27_row3_col0\" class=\"data row3 col0\" >0.25</td>\n",
       "      <td id=\"T_03a27_row3_col1\" class=\"data row3 col1\" >0.50</td>\n",
       "      <td id=\"T_03a27_row3_col2\" class=\"data row3 col2\" >0.33</td>\n",
       "      <td id=\"T_03a27_row3_col3\" class=\"data row3 col3\" >1515.00</td>\n",
       "    </tr>\n",
       "    <tr>\n",
       "      <th id=\"T_03a27_level0_row4\" class=\"row_heading level0 row4\" >weighted avg</th>\n",
       "      <td id=\"T_03a27_row4_col0\" class=\"data row4 col0\" >0.24</td>\n",
       "      <td id=\"T_03a27_row4_col1\" class=\"data row4 col1\" >0.49</td>\n",
       "      <td id=\"T_03a27_row4_col2\" class=\"data row4 col2\" >0.33</td>\n",
       "      <td id=\"T_03a27_row4_col3\" class=\"data row4 col3\" >1515.00</td>\n",
       "    </tr>\n",
       "  </tbody>\n",
       "</table>\n"
      ],
      "text/plain": [
       "<pandas.io.formats.style.Styler at 0x1dbc27d1c10>"
      ]
     },
     "execution_count": 164,
     "metadata": {},
     "output_type": "execute_result"
    }
   ],
   "source": [
    "# 최적의 파라미터와 최적 점수 출력\n",
    "print(\"Best Score:\", best_score)\n",
    "print(\"Best Parameters:\", best_params)\n",
    "\n",
    "# 최적의 파라미터로 모델 초기화\n",
    "best_model = RandomForestClassifier(**best_params, random_state=42)\n",
    "\n",
    "# 최종 모델 학습\n",
    "best_model.fit(X_train, y_train)\n",
    "\n",
    "# 테스트 데이터 예측\n",
    "y_pred = best_model.predict(X_test)\n",
    "\n",
    "# 최종 정확도 출력\n",
    "print(\"Final Accuracy:\", accuracy_score(y_test, y_pred))\n",
    "\n",
    "# 분류 보고서 출력 및 데이터프레임으로 변환\n",
    "report_dict = classification_report(y_test, y_pred, output_dict=True)\n",
    "report_df = pd.DataFrame(report_dict).transpose()\n",
    "\n",
    "# 보고서를 형식화하여 출력\n",
    "report_df.style.format(\"{:.2f}\").background_gradient(cmap='Blues')"
   ]
  },
  {
   "cell_type": "code",
   "execution_count": 165,
   "metadata": {},
   "outputs": [
    {
     "data": {
      "image/png": "[encoded data removed]",
      "text/plain": [
       "<Figure size 800x600 with 2 Axes>"
      ]
     },
     "metadata": {},
     "output_type": "display_data"
    }
   ],
   "source": [
    "cm = confusion_matrix(y_test, y_pred)\n",
    "\n",
    "plt.figure(figsize=(8, 6))\n",
    "sns.heatmap(cm, annot=True, fmt='d', cmap='Blues', xticklabels=['bad', 'good'], yticklabels=['bad', 'good'])\n",
    "plt.xlabel('Predicted')\n",
    "plt.ylabel('Actual')\n",
    "plt.title('confusion_matrix')\n",
    "plt.show()"
   ]
  },
  {
   "cell_type": "code",
   "execution_count": 166,
   "metadata": {},
   "outputs": [
    {
     "name": "stdout",
     "output_type": "stream",
     "text": [
      "Predicted Outcome: 호재\n"
     ]
    }
   ],
   "source": [
    "# 새로운 텍스트 데이터 예측\n",
    "text_to_predict = '''이번 신제품의 성공적인 출시에 따라, 삼성전자의 주가는 연일 상승세를 보이고 있으며, 국내외 투자자들의 관심이 집중되고 있다. 전문가들은 \"삼성전자가 이번 신제품을 통해 전 세계 시장에서 더욱 확고한 위치를 다질 것\"이라고 전망하고 있다.'''\n",
    "# 텍스트를 벡터화하여 예측 수행\n",
    "text_vector = text_to_vector(text_to_predict, word2vec_model).reshape(1, -1)\n",
    "predicted_outcome = best_model.predict(text_vector)\n",
    "\n",
    "# 결과 출력\n",
    "print(\"Predicted Outcome:\", predicted_outcome[0])"
   ]
  }
 ],
 "metadata": {
  "kernelspec": {
   "display_name": "tft",
   "language": "python",
   "name": "python3"
  },
  "language_info": {
   "codemirror_mode": {
    "name": "ipython",
    "version": 3
   },
   "file_extension": ".py",
   "mimetype": "text/x-python",
   "name": "python",
   "nbconvert_exporter": "python",
   "pygments_lexer": "ipython3",
   "version": "3.11.9"
  }
 },
 "nbformat": 4,
 "nbformat_minor": 2
}
