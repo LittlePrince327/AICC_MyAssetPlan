{
 "cells": [
  {
   "cell_type": "code",
   "execution_count": 1,
   "metadata": {},
   "outputs": [
    {
     "name": "stderr",
     "output_type": "stream",
     "text": [
      "c:\\Anaconda3\\envs\\myenv\\Lib\\site-packages\\tqdm\\auto.py:21: TqdmWarning: IProgress not found. Please update jupyter and ipywidgets. See https://ipywidgets.readthedocs.io/en/stable/user_install.html\n",
      "  from .autonotebook import tqdm as notebook_tqdm\n"
     ]
    }
   ],
   "source": [
    "from keras.models import load_model as keras_load_model\n",
    "from sklearn.preprocessing import MinMaxScaler\n",
    "from datetime import datetime, timedelta\n",
    "from keras.models import load_model\n",
    "import tensorflow as tf\n",
    "from xgboost import XGBRegressor\n",
    "import matplotlib.pyplot as plt\n",
    "from prophet import Prophet\n",
    "import pandas as pd\n",
    "import numpy as np\n",
    "import warnings\n",
    "import pickle\n",
    "import joblib\n",
    "import os\n",
    "warnings.filterwarnings('ignore')\n"
   ]
  },
  {
   "cell_type": "code",
   "execution_count": 2,
   "metadata": {},
   "outputs": [
    {
     "name": "stdout",
     "output_type": "stream",
     "text": [
      "오늘 날짜: 2024-09-30\n"
     ]
    }
   ],
   "source": [
    "# 현재 날짜와 시간 가져오기\n",
    "today = datetime.today()\n",
    "\n",
    "# 날짜만 가져오기\n",
    "current_date = today.date()\n",
    "\n",
    "print(\"오늘 날짜:\", current_date)\n",
    "\n",
    "df = pd.read_excel('../../data/tb_stock.xlsx')"
   ]
  },
  {
   "cell_type": "markdown",
   "metadata": {},
   "source": [
    "## SARIMA"
   ]
  },
  {
   "cell_type": "code",
   "execution_count": 3,
   "metadata": {},
   "outputs": [
    {
     "name": "stdout",
     "output_type": "stream",
     "text": [
      "sc_ss_stock 예측 일 : 2024-09-30  예측 값 : 63777.95204410909\n",
      "sc_ap_stock 예측 일 : 2024-09-30  예측 값 : 227.40548896799604\n",
      "sc_coin 예측 일 : 2024-09-30  예측 값 : 65314.04810709587\n"
     ]
    }
   ],
   "source": [
    "def sarima_predict_up_to_date(stock, model_path, input_date_str=current_date, data_path='../../data/tb_stock.xlsx',  lookback_days=60, steps_ahead=14):\n",
    "    \"\"\"\n",
    "    지정된 날짜까지 예측을 수행하는 함수.\n",
    "\n",
    "    :param input_date_str   : 사용자가 입력한 날짜 (YYYY-MM-DD 형식의 문자열)\n",
    "    :param data_path        : 주식 데이터가 저장된 엑셀 파일 경로\n",
    "    :param model_path       : 저장된 SARIMA 모델 경로\n",
    "    :param lookback_days    : 예측에 사용할 최근 데이터의 일 수 (기본값: 60일)\n",
    "    :param steps_ahead      : 한 번에 예측할 일 수 (기본값: 14일)\n",
    "    :return                 : 예측된 데이터 프레임\n",
    "    \"\"\"\n",
    "\n",
    "    # 입력된 날짜를 날짜 형식으로 변환\n",
    "    input_date = pd.to_datetime(input_date_str)\n",
    "\n",
    "    # 엑셀 데이터 불러오기\n",
    "    df = pd.read_excel(data_path)\n",
    "    df['sc_date'] = pd.to_datetime(df['sc_date'])\n",
    "    df.set_index('sc_date', inplace=True)\n",
    "    df = df.asfreq('D').fillna(method='ffill')  # 결측치를 전날 데이터로 채움\n",
    "\n",
    "    # 모델 불러오기\n",
    "    with open(model_path, 'rb') as pkl_file:\n",
    "        loaded_model = pickle.load(pkl_file)\n",
    "\n",
    "    # 입력된 날짜 이전의 데이터만 사용\n",
    "    df_filtered = df[df.index < input_date]\n",
    "\n",
    "    # 최근 lookback_days 일 데이터를 사용하여 예측 시작\n",
    "    last_observed = df_filtered[stock].iloc[-lookback_days:]\n",
    "\n",
    "    # 데이터가 없는 구간에 대한 예측 수행\n",
    "    future_pred_val = []\n",
    "    remaining_days = (input_date - df_filtered.index[-1]).days\n",
    "\n",
    "    while len(future_pred_val) < remaining_days:\n",
    "        # 기존 모델 파라미터를 사용하여 예측\n",
    "        pred = loaded_model.get_forecast(steps=steps_ahead)\n",
    "        pred_mean = pred.predicted_mean.cumsum() + last_observed.iloc[-1]\n",
    "        future_pred_val.extend(pred_mean)\n",
    "        last_observed = pd.concat([last_observed, pred_mean]).iloc[-lookback_days:]\n",
    "\n",
    "    # 예측된 날짜 생성\n",
    "    future_pred_dates = pd.date_range(start=df_filtered.index[-1] + pd.Timedelta(days=1), \n",
    "                                      periods=len(future_pred_val), freq='D')\n",
    "\n",
    "    # 예측된 데이터와 실제 데이터를 하나의 데이터프레임으로 결합\n",
    "    pred_df = pd.DataFrame({'Predicted': future_pred_val[:remaining_days]}, index=future_pred_dates[:remaining_days])\n",
    "\n",
    "    return print(f'{stock}', '예측 일 :', str(pred_df.index[-1])[:10],' 예측 값 :', pred_df[-1:].values[0][0])\n",
    "\n",
    "# 함수 사용 예시\n",
    "sarima_predict_up_to_date('sc_ss_stock', r'C:\\Users\\4호실-8\\Desktop\\Save_Models\\Regression_Samsung_SARIMA.pkl')\n",
    "sarima_predict_up_to_date('sc_ap_stock', r'C:\\Users\\4호실-8\\Desktop\\Save_Models\\Regression_Apple_SARIMA.pkl')\n",
    "sarima_predict_up_to_date('sc_coin', r'C:\\Users\\4호실-8\\Desktop\\Save_Models\\Regression_Bitcoin_SARIMA.pkl')"
   ]
  },
  {
   "cell_type": "code",
   "execution_count": 4,
   "metadata": {},
   "outputs": [
    {
     "name": "stdout",
     "output_type": "stream",
     "text": [
      "            ds          yhat   yhat_lower     yhat_upper\n",
      "361 2025-09-26  89190.740105 -2793.307395  182250.102059\n",
      "362 2025-09-27  89323.348440 -2469.490350  184543.435823\n",
      "363 2025-09-28  89443.155684 -2931.131334  184489.007172\n",
      "364 2025-09-29  89548.910736 -4147.213597  183250.449420\n",
      "365 2025-09-30  89639.746885 -3168.793425  184571.245410\n",
      "            ds        yhat  yhat_lower  yhat_upper\n",
      "361 2025-09-26  237.632154   77.638168  406.444211\n",
      "362 2025-09-27  237.313440   78.476147  407.475002\n",
      "363 2025-09-28  237.054268   75.852452  409.003914\n",
      "364 2025-09-29  236.850097   77.290068  408.376119\n",
      "365 2025-09-30  236.695773   76.182285  408.913258\n",
      "            ds          yhat    yhat_lower     yhat_upper\n",
      "361 2025-09-26  68338.145632  14462.283237  120020.722008\n",
      "362 2025-09-27  68260.261131  13696.893710  119734.444185\n",
      "363 2025-09-28  68276.371200  13518.391215  119994.720494\n",
      "364 2025-09-29  68387.150915  12620.945984  119059.032797\n",
      "365 2025-09-30  68591.942230  13211.091146  121167.824971\n"
     ]
    }
   ],
   "source": [
    "# 저장된 모델 파일 불러오기\n",
    "model_path = r'C:\\Users\\4호실-8\\Desktop\\Save_Models\\Regression_Samsung_Prophet_model.pkl'\n",
    "with open(model_path, 'rb') as f:\n",
    "    Regression_Samsung_Prophet = pickle.load(f)\n",
    "\n",
    "model_path = r'C:\\Users\\4호실-8\\Desktop\\Save_Models\\Regression_Apple_Prophet_model.pkl'\n",
    "with open(model_path, 'rb') as f:\n",
    "    Regression_Apple_Prophet = pickle.load(f)\n",
    "\n",
    "model_path = r'C:\\Users\\4호실-8\\Desktop\\Save_Models\\Regression_Bitcoin_Prophet_model.pkl'\n",
    "with open(model_path, 'rb') as f:\n",
    "    Regression_Bitcoin_Prophet = pickle.load(f)\n",
    "\n",
    "def predict_next_year_from_date(start_date, model):\n",
    "    \"\"\"\n",
    "    주어진 시작 날짜로부터 1년간의 주가 데이터를 예측하는 함수.\n",
    "    \n",
    "    :param model: 학습된 Prophet 모델\n",
    "    :param start_date: 예측을 시작할 날짜 (YYYY-MM-DD 형식의 문자열)\n",
    "    :return: 예측 결과 (DataFrame)\n",
    "    \"\"\"\n",
    "    # 시작 날짜로부터 1년 후 날짜 계산\n",
    "    future_dates = pd.date_range(start=start_date, periods=366, freq='D')\n",
    "    future = pd.DataFrame({'ds': future_dates})\n",
    "    \n",
    "    # 예측 수행\n",
    "    forecast = model.predict(future)\n",
    "\n",
    "    # 예측된 주가 데이터 시각화\n",
    "    # plt.figure(figsize=(10, 6))\n",
    "    # plt.plot(forecast['ds'], forecast['yhat'], label='Predicted')\n",
    "    # #plt.fill_between(forecast['ds'], forecast['yhat_lower'], forecast['yhat_upper'], color='gray', alpha=0.2, label='Confidence Interval')\n",
    "    # plt.title(f'Stock Price Prediction from {start_date} for 1 Year')\n",
    "    # plt.xlabel('Date')\n",
    "    # plt.ylabel('Predicted Price')\n",
    "    # plt.legend()\n",
    "    # plt.show()\n",
    "\n",
    "    return forecast[['ds', 'yhat', 'yhat_lower', 'yhat_upper']].tail()\n",
    "\n",
    "# 예시: 특정 날짜로부터 1년간의 예측\n",
    "print(predict_next_year_from_date(current_date, Regression_Samsung_Prophet))\n",
    "print(predict_next_year_from_date(current_date, Regression_Apple_Prophet))\n",
    "print(predict_next_year_from_date(current_date, Regression_Bitcoin_Prophet))"
   ]
  },
  {
   "cell_type": "markdown",
   "metadata": {},
   "source": [
    "# XGBoost"
   ]
  },
  {
   "cell_type": "code",
   "execution_count": 5,
   "metadata": {},
   "outputs": [
    {
     "name": "stdout",
     "output_type": "stream",
     "text": [
      "Model loaded from C:\\Users\\4호실-8\\Desktop\\Save_Models\\regression_samsung_xgboost.pkl\n",
      "예측 일: 2024-09-25  예측 값: 63398.33\n",
      "Model loaded from C:\\Users\\4호실-8\\Desktop\\Save_Models\\regression_apple_xgboost.pkl\n",
      "예측 일: 2024-09-25  예측 값: 228.86752\n",
      "Model loaded from C:\\Users\\4호실-8\\Desktop\\Save_Models\\regression_bitcoin_xgboost.pkl\n",
      "예측 일: 2024-09-25  예측 값: 63250.656\n"
     ]
    }
   ],
   "source": [
    "def xgboost_predict(stock, df, day, model_filename):\n",
    "    # 데이터 전처리\n",
    "    stock_dataset = df[['sc_date', stock]]\n",
    "    stock_dataset['sc_date'] = pd.to_datetime(stock_dataset['sc_date'])\n",
    "    stock_dataset.rename(columns={'sc_date': 'Date', stock: 'stock'}, inplace=True)\n",
    "    stock_dataset.set_index('Date', inplace=True)\n",
    "    \n",
    "    # 날짜 변환 및 계산\n",
    "    today = datetime.today()\n",
    "    month_format = str(today.month).zfill(2)  # 월 형식 정리\n",
    "    day_format = str(today.day).zfill(2)      # 일 형식 정리\n",
    "    today_format = datetime.strptime(f'{today.year}{month_format}{day_format}', '%Y%m%d')\n",
    "    formatted_date = datetime.strptime(str(day), '%Y%m%d')\n",
    "\n",
    "    start_day = 4  # 모델이 학습한 특성 수 (예시로 4로 설정)\n",
    "    end_day = (formatted_date - today_format).days + 1\n",
    "\n",
    "    # 날짜가 오늘보다 이전일 경우 오류 처리\n",
    "    if end_day < 1:\n",
    "        print(\"예측 날짜는 오늘 이후여야 합니다. 올바른 날짜를 입력하세요.\")\n",
    "        return\n",
    "\n",
    "    # 데이터 준비\n",
    "    days_in = start_day  # 모델이 기대하는 입력 데이터 특성 수로 조정\n",
    "    day_out = 1          # 예측할 일 수\n",
    "    raw = []\n",
    "\n",
    "    # 특성 생성: 과거 days_in일과 미래 day_out일을 기준으로 이동\n",
    "    for i in range(days_in, 0, -1):\n",
    "        raw.append(stock_dataset.shift(i))\n",
    "    for i in range(0, day_out):\n",
    "        raw.append(stock_dataset.shift(-i))\n",
    "\n",
    "    sum_df = pd.concat(raw, axis=1)\n",
    "    sum_df.dropna(inplace=True)\n",
    "\n",
    "    # 데이터 분리\n",
    "    train = sum_df.values\n",
    "    X = train[:, :-1]\n",
    "    Y = train[:, -1]\n",
    "\n",
    "    # 저장된 모델 로드\n",
    "    model = joblib.load(model_filename)\n",
    "    print(f'Model loaded from {model_filename}')\n",
    "\n",
    "    # 예측 데이터 준비\n",
    "    data_in = stock_dataset[-(days_in):]  # 예측을 위한 마지막 days_in일 데이터 슬라이싱\n",
    "    data_in = data_in.values[-4:]         # 마지막 4일치 데이터만 사용 (모델의 기대 특성 수와 일치하도록)\n",
    "    data_in = data_in.flatten().reshape(1, -1)  # (1, n_features) 형태로 변환\n",
    "\n",
    "    forecast_days = end_day  # 예측할 전체 값\n",
    "    forecast_results = []\n",
    "\n",
    "    # 반복하여 예측 수행\n",
    "    for _ in range(forecast_days):\n",
    "        # 예측 수행\n",
    "        prediction = model.predict(data_in)\n",
    "        forecast_results.append(prediction[0])\n",
    "\n",
    "        # 데이터 업데이트: 예측 값을 데이터에 추가하고 가장 오래된 데이터를 제거\n",
    "        new_data = np.append(data_in[0][1:], prediction)\n",
    "        data_in = new_data.reshape(1, -1)\n",
    "\n",
    "    # 예측 결과를 DataFrame으로 변환\n",
    "    forecast_dates = pd.date_range(start=stock_dataset.index[-1], periods=forecast_days)\n",
    "    forecast_df = pd.DataFrame(forecast_results, index=forecast_dates, columns=['Forecast'])\n",
    "\n",
    "    # 예측 결과 출력\n",
    "    print('예측 일:', str(forecast_df.index[-1])[:10], ' 예측 값:', forecast_df.iloc[-1].values[0])\n",
    "\n",
    "# 사용 예시:\n",
    "# 예측할 날짜를 지정하고, 모델 파일 경로를 설정합니다.\n",
    "current_date1 = int(str(current_date).replace('-', ''))\n",
    "xgboost_predict('sc_ss_stock', df, current_date1, model_filename=r'C:\\Users\\4호실-8\\Desktop\\Save_Models\\regression_samsung_xgboost.pkl')\n",
    "xgboost_predict('sc_ap_stock', df, current_date1, model_filename=r'C:\\Users\\4호실-8\\Desktop\\Save_Models\\regression_apple_xgboost.pkl')\n",
    "xgboost_predict('sc_coin', df, current_date1, model_filename=r'C:\\Users\\4호실-8\\Desktop\\Save_Models\\regression_bitcoin_xgboost.pkl')"
   ]
  },
  {
   "cell_type": "code",
   "execution_count": 6,
   "metadata": {},
   "outputs": [
    {
     "name": "stderr",
     "output_type": "stream",
     "text": [
      "WARNING:absl:Compiled the loaded model, but the compiled metrics have yet to be built. `model.compile_metrics` will be empty until you train or evaluate the model.\n",
      "WARNING:absl:Compiled the loaded model, but the compiled metrics have yet to be built. `model.compile_metrics` will be empty until you train or evaluate the model.\n"
     ]
    },
    {
     "name": "stdout",
     "output_type": "stream",
     "text": [
      "sc_ss_stock 예측 가격 (30일 후): 72301.38832865877\n"
     ]
    },
    {
     "name": "stderr",
     "output_type": "stream",
     "text": [
      "WARNING:absl:Compiled the loaded model, but the compiled metrics have yet to be built. `model.compile_metrics` will be empty until you train or evaluate the model.\n"
     ]
    },
    {
     "name": "stdout",
     "output_type": "stream",
     "text": [
      "sc_ap_stock 예측 가격 (30일 후): 185.13260169614185\n",
      "sc_coin 예측 가격 (30일 후): 57588.84086937428\n"
     ]
    }
   ],
   "source": [
    "os.environ['TF_CPP_MIN_LOG_LEVEL'] = '3'  # TensorFlow 로그 숨김\n",
    "tf.get_logger().setLevel('ERROR')  # absl 로그 숨기기\n",
    "\n",
    "# Keras 모델을 불러오는 함수 정의\n",
    "def load_keras_model(model_path):\n",
    "    # Keras 모델 로드\n",
    "    model = keras_load_model(model_path)\n",
    "    return model\n",
    "\n",
    "# 주가를 예측하는 함수 정의\n",
    "def load_model_and_predict(stock, model_path, data_path='../../data/tb_stock.xlsx', look_back=10, days_ahead=30):\n",
    "    scaler = MinMaxScaler(feature_range=(0, 1))\n",
    "    \n",
    "    # 모델 로드\n",
    "    best_model = load_keras_model(model_path)\n",
    "\n",
    "    # 데이터 로드 및 전처리\n",
    "    df = pd.read_excel(data_path)\n",
    "    df = df[['sc_date', stock]]\n",
    "    df = df[:-30]\n",
    "    df['sc_date'] = pd.to_datetime(df['sc_date'])  # datetime 형식으로 변환\n",
    "    df.dropna(inplace=True)  # 결측치 제거\n",
    "\n",
    "    scaled_data = scaler.fit_transform(df[[stock]])\n",
    "\n",
    "    # 미래 예측 함수 정의\n",
    "    def predict_future(stock, data, model, scaler, look_back=look_back, days_ahead=days_ahead):\n",
    "        future_predictions = []\n",
    "        last_sequence = data[-look_back:]  # 가장 최근의 데이터 시퀀스\n",
    "\n",
    "        for _ in range(days_ahead):\n",
    "            pred = model.predict(last_sequence.reshape(1, look_back, 1), verbose=0)  # verbose=0으로 출력 숨기기\n",
    "            future_predictions.append(pred[0, 0])\n",
    "            last_sequence = np.append(last_sequence[1:], pred, axis=0)\n",
    "\n",
    "        result = np.array(future_predictions)\n",
    "\n",
    "        predicted_price_30_days = result[-1]\n",
    "        predicted_price_actual = scaler.inverse_transform([[predicted_price_30_days]])[0, 0]\n",
    "\n",
    "        return predicted_price_actual  # 실제 가격 반환\n",
    "\n",
    "    # 예측 수행\n",
    "    predicted_price = predict_future(stock, scaled_data, best_model, scaler)\n",
    "    print(f\"{stock} 예측 가격 (30일 후): {predicted_price}\")\n",
    "\n",
    "# 모델 파일 경로\n",
    "a = r'C:\\Users\\4호실-8\\Desktop\\Save_Models\\regression_apple_lstm.h5'\n",
    "b = r'C:\\Users\\4호실-8\\Desktop\\Save_Models\\regression_samsung_lstm.h5'\n",
    "c = r'C:\\Users\\4호실-8\\Desktop\\Save_Models\\regression_bitcoin_lstm.h5'\n",
    "\n",
    "# 예측 실행\n",
    "load_model_and_predict('sc_ss_stock', b)\n",
    "load_model_and_predict('sc_ap_stock', a)\n",
    "load_model_and_predict('sc_coin', c)"
   ]
  },
  {
   "cell_type": "code",
   "execution_count": 7,
   "metadata": {},
   "outputs": [
    {
     "name": "stdout",
     "output_type": "stream",
     "text": [
      "Samsung 2024-09-30: 64729.98752316575\n",
      "Apple 2024-09-30: 318.56251440626505\n",
      "Coin 2024-09-30: 45160.50298790372\n"
     ]
    }
   ],
   "source": [
    "\n",
    "# 모델을 불러오는 함수 정의\n",
    "def load_model(model_name):\n",
    "    file_path = fr'C:\\Users\\4호실-8\\Desktop\\Save_Models\\Regression_{model_name}_ExponentialSmoothing.pkl'\n",
    "    with open(file_path, 'rb') as file:\n",
    "        model = pickle.load(file)\n",
    "    return model\n",
    "\n",
    "# 주가를 예측하는 함수 정의\n",
    "def predict_stock(stock, model, date=current_date):\n",
    "    # 예측하고자 하는 날짜를 datetime 객체로 변환\n",
    "    if isinstance(date, datetime):\n",
    "        predict_date = date\n",
    "    elif isinstance(date, str):\n",
    "        predict_date = datetime.strptime(date, '%Y-%m-%d')\n",
    "    elif isinstance(date, date):\n",
    "        predict_date = datetime.combine(date, datetime.min.time())\n",
    "    else:\n",
    "        raise TypeError(\"date는 문자열, datetime.date 또는 datetime.datetime이어야 합니다.\")\n",
    "    \n",
    "    # 모델의 마지막 훈련 날짜를 가져옴\n",
    "    train_last_date = model.fittedvalues.index[-1]\n",
    "    \n",
    "    # train_last_date가 datetime.date 또는 datetime.datetime 객체일 경우 적절히 변환\n",
    "    if isinstance(train_last_date, str):\n",
    "        train_last_date = datetime.strptime(train_last_date, '%Y-%m-%d')\n",
    "    elif isinstance(train_last_date, date) and not isinstance(train_last_date, datetime):\n",
    "        train_last_date = datetime.combine(train_last_date, datetime.min.time())\n",
    "    elif isinstance(train_last_date, datetime):\n",
    "        train_last_date = train_last_date\n",
    "    else:\n",
    "        raise TypeError(\"train_last_date는 문자열, datetime.date 또는 datetime.datetime이어야 합니다.\")\n",
    "    \n",
    "    # 예측하고자 하는 날짜와 훈련 마지막 날짜의 차이 계산\n",
    "    date_sub = (predict_date - train_last_date).days\n",
    "    \n",
    "    # 예측할 일수가 양수인지 확인 (음수면 과거 예측이라 에러)\n",
    "    if date_sub <= 0:\n",
    "        raise ValueError(\"예측 날짜는 모델 학습 마지막 날짜 이후여야 합니다.\")\n",
    "    \n",
    "    # 주어진 날짜까지 예측 수행\n",
    "    predictions = model.forecast(steps=date_sub)\n",
    "    \n",
    "    # 마지막 예측 값 반환\n",
    "    return f'{stock} {predict_date.date()}: {predictions[-1]}'\n",
    "\n",
    "# 모델 불러오기\n",
    "samsung_model = load_model('Samsung')\n",
    "apple_model = load_model('Apple')\n",
    "coin_model = load_model('Coin')\n",
    "\n",
    "# 예시 사용: 날짜를 문자열로 명시하여 전달합니다.\n",
    "current_date = str(current_date)\n",
    "print(predict_stock('Samsung', samsung_model, current_date))\n",
    "print(predict_stock('Apple', apple_model, current_date))\n",
    "print(predict_stock('Coin', coin_model, current_date))"
   ]
  }
 ],
 "metadata": {
  "kernelspec": {
   "display_name": "myenv",
   "language": "python",
   "name": "python3"
  },
  "language_info": {
   "codemirror_mode": {
    "name": "ipython",
    "version": 3
   },
   "file_extension": ".py",
   "mimetype": "text/x-python",
   "name": "python",
   "nbconvert_exporter": "python",
   "pygments_lexer": "ipython3",
   "version": "3.11.9"
  }
 },
 "nbformat": 4,
 "nbformat_minor": 2
}
